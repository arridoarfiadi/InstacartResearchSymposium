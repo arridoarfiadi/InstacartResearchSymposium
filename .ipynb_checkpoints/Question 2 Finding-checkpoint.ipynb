{
 "cells": [
  {
   "cell_type": "code",
   "execution_count": 6,
   "metadata": {},
   "outputs": [],
   "source": [
    "from sklearn.externals import joblib\n",
    "import pandas as pd\n",
    "import numpy as np\n",
    "import pickle\n",
    "import seaborn as sb\n",
    "import matplotlib.pyplot as plt\n",
    "from matplotlib.colors import ListedColormap\n",
    "from sklearn import metrics\n",
    "from sklearn.datasets import make_classification\n",
    "from sklearn.ensemble import RandomForestClassifier\n",
    "from sklearn.linear_model import LogisticRegression\n",
    "from sklearn.naive_bayes import GaussianNB\n",
    "from sklearn.model_selection import train_test_split\n",
    "from sklearn.neighbors import NearestNeighbors"
   ]
  },
  {
   "cell_type": "code",
   "execution_count": 11,
   "metadata": {},
   "outputs": [],
   "source": [
    "mapper = joblib.load(\"userProductTotal_pivot_sparce_mapper.dms\")\n",
    "userProductTotal_pivot_sparce = joblib.load(\"userProductTotal_pivot_sparce.dms\")\n",
    "with open('orig_products.pickle', \"rb\") as f:\n",
    "    products = pickle.load(f)"
   ]
  },
  {
   "cell_type": "code",
   "execution_count": 8,
   "metadata": {},
   "outputs": [],
   "source": [
    "def getIndexForProductID(productID): \n",
    "    return mapper.loc[mapper.ProductID == productID][\"index\"].values[0]\n",
    "\n",
    "def makeProductRecommendation(model, data, productID, numRecommendations):\n",
    "    model.fit(data)\n",
    "    print(\"Product ID inserted:\", productID, products[products.ProductID == productID][\"ProductName\"].to_string(index=False))\n",
    "    print(\"Recommending....\")\n",
    "    distances,indices = model.kneighbors(data[getIndexForProductID(productID)], n_neighbors = numRecommendations + 1)\n",
    "    raw_recommends = \\\n",
    "        sorted(list(zip(indices.squeeze().tolist(), distances.squeeze().tolist())), key=lambda x: x[1])[:0:-1]\n",
    "    # print recommendations\n",
    "    #print(raw_recommends)\n",
    "    for i, (productID, dist) in enumerate(raw_recommends):\n",
    "        print('{0}: {1}, with distance of {2}'.format(i+1, products[products.ProductID == productID][\"ProductName\"].to_string(index=False), dist))"
   ]
  },
  {
   "cell_type": "code",
   "execution_count": 23,
   "metadata": {},
   "outputs": [],
   "source": [
    "knn = NearestNeighbors(metric='cosine', algorithm='brute', n_neighbors=20, n_jobs=-1)"
   ]
  },
  {
   "cell_type": "code",
   "execution_count": 44,
   "metadata": {},
   "outputs": [
    {
     "name": "stdout",
     "output_type": "stream",
     "text": [
      "Product ID inserted: 969 Petite Green Peas\n",
      "Recommending....\n",
      "1: Paste for Lamb Curry, with distance of 0.8810854466600606\n",
      "2: Hot Kid Organic Baby Mum-Mum Original Rice Rusks, with distance of 0.8769199899500962\n",
      "3: Chipotle Peppers, with distance of 0.8724288541850216\n",
      "4: Basil Scent Fabric Softener, with distance of 0.8673134025268573\n",
      "5: Passion Herbal Infusion Caffeine Free Tea Bags, with distance of 0.8644548404807285\n",
      "6: Crispy Strips, with distance of 0.8637367650776868\n",
      "7: Chicken & Brown Rice Premium Dog Food, with distance of 0.8498574156019085\n",
      "8: Cherry Vanilla, with distance of 0.8214505560287507\n",
      "9: Cold Brew Coffee Salted Caramel, with distance of 0.8055027360997875\n",
      "10: Zesty Honey Mustard, with distance of 0.7886520895829724\n"
     ]
    }
   ],
   "source": [
    "makeProductRecommendation(knn,userProductTotal_pivot_sparce, 969, 10)"
   ]
  },
  {
   "cell_type": "code",
   "execution_count": null,
   "metadata": {},
   "outputs": [],
   "source": [
    "makeProductRecommendation(knn,userProductTotal_pivot_sparce, 47209, 10)"
   ]
  },
  {
   "cell_type": "code",
   "execution_count": null,
   "metadata": {},
   "outputs": [],
   "source": [
    "makeProductRecommendation(knn,userProductTotal_pivot_sparce, 45007, 10)"
   ]
  }
 ],
 "metadata": {
  "kernelspec": {
   "display_name": "Python 3",
   "language": "python",
   "name": "python3"
  },
  "language_info": {
   "codemirror_mode": {
    "name": "ipython",
    "version": 3
   },
   "file_extension": ".py",
   "mimetype": "text/x-python",
   "name": "python",
   "nbconvert_exporter": "python",
   "pygments_lexer": "ipython3",
   "version": "3.6.4"
  }
 },
 "nbformat": 4,
 "nbformat_minor": 2
}
