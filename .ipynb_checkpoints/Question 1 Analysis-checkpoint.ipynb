{
 "cells": [
  {
   "cell_type": "markdown",
   "metadata": {},
   "source": [
    "# Import Libraries"
   ]
  },
  {
   "cell_type": "code",
   "execution_count": 98,
   "metadata": {},
   "outputs": [],
   "source": [
    "from sklearn.externals import joblib\n",
    "import pandas as pd\n",
    "import numpy as np\n",
    "import seaborn as sb\n",
    "import matplotlib.pyplot as plt\n",
    "from sklearn import metrics\n",
    "from sklearn.datasets import make_classification\n",
    "from sklearn.ensemble import RandomForestClassifier\n",
    "from sklearn.model_selection import train_test_split"
   ]
  },
  {
   "cell_type": "markdown",
   "metadata": {},
   "source": [
    "## Load Data Dump "
   ]
  },
  {
   "cell_type": "code",
   "execution_count": 99,
   "metadata": {},
   "outputs": [
    {
     "data": {
      "text/html": [
       "<div>\n",
       "<style scoped>\n",
       "    .dataframe tbody tr th:only-of-type {\n",
       "        vertical-align: middle;\n",
       "    }\n",
       "\n",
       "    .dataframe tbody tr th {\n",
       "        vertical-align: top;\n",
       "    }\n",
       "\n",
       "    .dataframe thead th {\n",
       "        text-align: right;\n",
       "    }\n",
       "</style>\n",
       "<table border=\"1\" class=\"dataframe\">\n",
       "  <thead>\n",
       "    <tr style=\"text-align: right;\">\n",
       "      <th></th>\n",
       "      <th>OrderID</th>\n",
       "      <th>ProductID</th>\n",
       "      <th>reordered</th>\n",
       "      <th>UserID</th>\n",
       "      <th>UserTotalOrder</th>\n",
       "      <th>UserTotalProductOrder</th>\n",
       "      <th>UserProductOrdersShare</th>\n",
       "      <th>UserMedianDaysSincePriorOrder</th>\n",
       "      <th>TotalReorderedPerProduct</th>\n",
       "    </tr>\n",
       "  </thead>\n",
       "  <tbody>\n",
       "    <tr>\n",
       "      <th>0</th>\n",
       "      <td>2</td>\n",
       "      <td>33120</td>\n",
       "      <td>True</td>\n",
       "      <td>202279</td>\n",
       "      <td>9</td>\n",
       "      <td>6</td>\n",
       "      <td>0.666667</td>\n",
       "      <td>27.0</td>\n",
       "      <td>6.0</td>\n",
       "    </tr>\n",
       "    <tr>\n",
       "      <th>6</th>\n",
       "      <td>26</td>\n",
       "      <td>33120</td>\n",
       "      <td>False</td>\n",
       "      <td>153404</td>\n",
       "      <td>33</td>\n",
       "      <td>5</td>\n",
       "      <td>0.151515</td>\n",
       "      <td>8.0</td>\n",
       "      <td>6.0</td>\n",
       "    </tr>\n",
       "    <tr>\n",
       "      <th>11</th>\n",
       "      <td>1632223</td>\n",
       "      <td>33120</td>\n",
       "      <td>False</td>\n",
       "      <td>69984</td>\n",
       "      <td>23</td>\n",
       "      <td>1</td>\n",
       "      <td>0.043478</td>\n",
       "      <td>7.0</td>\n",
       "      <td>6.0</td>\n",
       "    </tr>\n",
       "    <tr>\n",
       "      <th>12</th>\n",
       "      <td>618528</td>\n",
       "      <td>33120</td>\n",
       "      <td>False</td>\n",
       "      <td>3321</td>\n",
       "      <td>33</td>\n",
       "      <td>4</td>\n",
       "      <td>0.121212</td>\n",
       "      <td>9.0</td>\n",
       "      <td>6.0</td>\n",
       "    </tr>\n",
       "    <tr>\n",
       "      <th>16</th>\n",
       "      <td>21527</td>\n",
       "      <td>33120</td>\n",
       "      <td>False</td>\n",
       "      <td>141357</td>\n",
       "      <td>53</td>\n",
       "      <td>2</td>\n",
       "      <td>0.037736</td>\n",
       "      <td>7.0</td>\n",
       "      <td>6.0</td>\n",
       "    </tr>\n",
       "  </tbody>\n",
       "</table>\n",
       "</div>"
      ],
      "text/plain": [
       "    OrderID  ProductID  reordered  UserID  UserTotalOrder  \\\n",
       "0         2      33120       True  202279               9   \n",
       "6        26      33120      False  153404              33   \n",
       "11  1632223      33120      False   69984              23   \n",
       "12   618528      33120      False    3321              33   \n",
       "16    21527      33120      False  141357              53   \n",
       "\n",
       "    UserTotalProductOrder  UserProductOrdersShare  \\\n",
       "0                       6                0.666667   \n",
       "6                       5                0.151515   \n",
       "11                      1                0.043478   \n",
       "12                      4                0.121212   \n",
       "16                      2                0.037736   \n",
       "\n",
       "    UserMedianDaysSincePriorOrder  TotalReorderedPerProduct  \n",
       "0                            27.0                       6.0  \n",
       "6                             8.0                       6.0  \n",
       "11                            7.0                       6.0  \n",
       "12                            9.0                       6.0  \n",
       "16                            7.0                       6.0  "
      ]
     },
     "execution_count": 99,
     "metadata": {},
     "output_type": "execute_result"
    }
   ],
   "source": [
    "dataDump = joblib.load(\"ReorderProbability_DataFrame_duplicates_removed\")\n",
    "dataDump.head()"
   ]
  },
  {
   "cell_type": "code",
   "execution_count": 100,
   "metadata": {},
   "outputs": [
    {
     "data": {
      "text/html": [
       "<div>\n",
       "<style scoped>\n",
       "    .dataframe tbody tr th:only-of-type {\n",
       "        vertical-align: middle;\n",
       "    }\n",
       "\n",
       "    .dataframe tbody tr th {\n",
       "        vertical-align: top;\n",
       "    }\n",
       "\n",
       "    .dataframe thead th {\n",
       "        text-align: right;\n",
       "    }\n",
       "</style>\n",
       "<table border=\"1\" class=\"dataframe\">\n",
       "  <thead>\n",
       "    <tr style=\"text-align: right;\">\n",
       "      <th></th>\n",
       "      <th>OrderID</th>\n",
       "      <th>ProductID</th>\n",
       "      <th>UserID</th>\n",
       "      <th>UserTotalOrder</th>\n",
       "      <th>UserTotalProductOrder</th>\n",
       "      <th>UserProductOrdersShare</th>\n",
       "      <th>UserMedianDaysSincePriorOrder</th>\n",
       "      <th>TotalReorderedPerProduct</th>\n",
       "    </tr>\n",
       "  </thead>\n",
       "  <tbody>\n",
       "    <tr>\n",
       "      <th>count</th>\n",
       "      <td>1.386375e+07</td>\n",
       "      <td>1.386375e+07</td>\n",
       "      <td>1.386375e+07</td>\n",
       "      <td>1.386375e+07</td>\n",
       "      <td>1.386375e+07</td>\n",
       "      <td>1.386375e+07</td>\n",
       "      <td>1.386375e+07</td>\n",
       "      <td>1.263189e+07</td>\n",
       "    </tr>\n",
       "    <tr>\n",
       "      <th>mean</th>\n",
       "      <td>1.499595e+06</td>\n",
       "      <td>2.551068e+04</td>\n",
       "      <td>1.030158e+05</td>\n",
       "      <td>2.582566e+01</td>\n",
       "      <td>2.439392e+00</td>\n",
       "      <td>1.425333e-01</td>\n",
       "      <td>1.217367e+01</td>\n",
       "      <td>4.622331e+02</td>\n",
       "    </tr>\n",
       "    <tr>\n",
       "      <th>std</th>\n",
       "      <td>1.013421e+06</td>\n",
       "      <td>1.422548e+04</td>\n",
       "      <td>5.943946e+04</td>\n",
       "      <td>2.213607e+01</td>\n",
       "      <td>3.548338e+00</td>\n",
       "      <td>1.499583e-01</td>\n",
       "      <td>8.003374e+00</td>\n",
       "      <td>3.046128e+03</td>\n",
       "    </tr>\n",
       "    <tr>\n",
       "      <th>min</th>\n",
       "      <td>1.000000e+00</td>\n",
       "      <td>1.000000e+00</td>\n",
       "      <td>1.000000e+00</td>\n",
       "      <td>4.000000e+00</td>\n",
       "      <td>1.000000e+00</td>\n",
       "      <td>1.000000e-02</td>\n",
       "      <td>0.000000e+00</td>\n",
       "      <td>1.000000e+00</td>\n",
       "    </tr>\n",
       "    <tr>\n",
       "      <th>25%</th>\n",
       "      <td>5.840130e+05</td>\n",
       "      <td>1.329200e+04</td>\n",
       "      <td>5.160325e+04</td>\n",
       "      <td>9.000000e+00</td>\n",
       "      <td>1.000000e+00</td>\n",
       "      <td>4.444444e-02</td>\n",
       "      <td>6.500000e+00</td>\n",
       "      <td>7.000000e+00</td>\n",
       "    </tr>\n",
       "    <tr>\n",
       "      <th>50%</th>\n",
       "      <td>1.405032e+06</td>\n",
       "      <td>2.563800e+04</td>\n",
       "      <td>1.027330e+05</td>\n",
       "      <td>1.800000e+01</td>\n",
       "      <td>1.000000e+00</td>\n",
       "      <td>9.090909e-02</td>\n",
       "      <td>9.000000e+00</td>\n",
       "      <td>2.900000e+01</td>\n",
       "    </tr>\n",
       "    <tr>\n",
       "      <th>75%</th>\n",
       "      <td>2.359893e+06</td>\n",
       "      <td>3.815400e+04</td>\n",
       "      <td>1.544780e+05</td>\n",
       "      <td>3.500000e+01</td>\n",
       "      <td>2.000000e+00</td>\n",
       "      <td>1.875000e-01</td>\n",
       "      <td>1.600000e+01</td>\n",
       "      <td>1.510000e+02</td>\n",
       "    </tr>\n",
       "    <tr>\n",
       "      <th>max</th>\n",
       "      <td>3.421083e+06</td>\n",
       "      <td>4.968800e+04</td>\n",
       "      <td>2.062090e+05</td>\n",
       "      <td>1.000000e+02</td>\n",
       "      <td>1.000000e+02</td>\n",
       "      <td>1.000000e+00</td>\n",
       "      <td>3.000000e+01</td>\n",
       "      <td>4.151660e+05</td>\n",
       "    </tr>\n",
       "  </tbody>\n",
       "</table>\n",
       "</div>"
      ],
      "text/plain": [
       "            OrderID     ProductID        UserID  UserTotalOrder  \\\n",
       "count  1.386375e+07  1.386375e+07  1.386375e+07    1.386375e+07   \n",
       "mean   1.499595e+06  2.551068e+04  1.030158e+05    2.582566e+01   \n",
       "std    1.013421e+06  1.422548e+04  5.943946e+04    2.213607e+01   \n",
       "min    1.000000e+00  1.000000e+00  1.000000e+00    4.000000e+00   \n",
       "25%    5.840130e+05  1.329200e+04  5.160325e+04    9.000000e+00   \n",
       "50%    1.405032e+06  2.563800e+04  1.027330e+05    1.800000e+01   \n",
       "75%    2.359893e+06  3.815400e+04  1.544780e+05    3.500000e+01   \n",
       "max    3.421083e+06  4.968800e+04  2.062090e+05    1.000000e+02   \n",
       "\n",
       "       UserTotalProductOrder  UserProductOrdersShare  \\\n",
       "count           1.386375e+07            1.386375e+07   \n",
       "mean            2.439392e+00            1.425333e-01   \n",
       "std             3.548338e+00            1.499583e-01   \n",
       "min             1.000000e+00            1.000000e-02   \n",
       "25%             1.000000e+00            4.444444e-02   \n",
       "50%             1.000000e+00            9.090909e-02   \n",
       "75%             2.000000e+00            1.875000e-01   \n",
       "max             1.000000e+02            1.000000e+00   \n",
       "\n",
       "       UserMedianDaysSincePriorOrder  TotalReorderedPerProduct  \n",
       "count                   1.386375e+07              1.263189e+07  \n",
       "mean                    1.217367e+01              4.622331e+02  \n",
       "std                     8.003374e+00              3.046128e+03  \n",
       "min                     0.000000e+00              1.000000e+00  \n",
       "25%                     6.500000e+00              7.000000e+00  \n",
       "50%                     9.000000e+00              2.900000e+01  \n",
       "75%                     1.600000e+01              1.510000e+02  \n",
       "max                     3.000000e+01              4.151660e+05  "
      ]
     },
     "execution_count": 100,
     "metadata": {},
     "output_type": "execute_result"
    }
   ],
   "source": [
    "dataDump.describe()"
   ]
  },
  {
   "cell_type": "markdown",
   "metadata": {},
   "source": [
    "# Checking Outliers"
   ]
  },
  {
   "cell_type": "code",
   "execution_count": 110,
   "metadata": {},
   "outputs": [],
   "source": [
    "def remove_outlier(df_in, col_name):\n",
    "    q1 = df_in[col_name].quantile(0.25)\n",
    "    q3 = df_in[col_name].quantile(0.75)\n",
    "    iqr = q3 - q1\n",
    "    print(\"Q1:\",q1,\"Q3:\" ,q3,\"IQR\",iqr)\n",
    "    lowerBound = q1 - (iqr * 1.5)\n",
    "    higherBound = q3 + (iqr * 1.5)\n",
    "    print(\"Lower Bound:\",lowerBound, \"Higher Bound:\",higherBound)\n",
    "    outliers = df_in.loc[(df_in[col_name] < lowerBound) | (df_in[col_name] > higherBound)]\n",
    "    print(\"Amount of Outliers:\",len(outliers))\n",
    "    print(\"Percentage:\", len(outliers)/len(df_in))\n",
    "    percentage = len(outliers)/len(df_in)\n",
    "    if percentage < 0.05:\n",
    "        df_in = df_in.loc[(df_in[col_name] > lowerBound) & (df_in[col_name] < higherBound), :].copy()\n",
    "        print(\"Dropped\")\n",
    "        return df_in\n",
    "    else:\n",
    "        mean = df_in[col_name].mean()\n",
    "        df_in.loc[(df_in[col_name] < lowerBound) | (df_in[col_name] > higherBound), col_name] = mean\n",
    "        print(\"Imputed with mean:\", mean)\n",
    "        return df_in"
   ]
  },
  {
   "cell_type": "markdown",
   "metadata": {},
   "source": [
    "## UserTotalOrder"
   ]
  },
  {
   "cell_type": "code",
   "execution_count": 102,
   "metadata": {},
   "outputs": [
    {
     "data": {
      "text/plain": [
       "<matplotlib.axes._subplots.AxesSubplot at 0x1a23d64898>"
      ]
     },
     "execution_count": 102,
     "metadata": {},
     "output_type": "execute_result"
    },
    {
     "data": {
      "image/png": "[encoded data removed]",
      "text/plain": [
       "<matplotlib.figure.Figure at 0x1a23d64278>"
      ]
     },
     "metadata": {},
     "output_type": "display_data"
    }
   ],
   "source": [
    "dataDump.boxplot(column='UserTotalOrder')"
   ]
  },
  {
   "cell_type": "code",
   "execution_count": 103,
   "metadata": {},
   "outputs": [
    {
     "data": {
      "text/plain": [
       "<matplotlib.axes._subplots.AxesSubplot at 0x1a23d64128>"
      ]
     },
     "execution_count": 103,
     "metadata": {},
     "output_type": "execute_result"
    },
    {
     "data": {
      "image/png": "[encoded data removed]",
      "text/plain": [
       "<matplotlib.figure.Figure at 0x1a23d682b0>"
      ]
     },
     "metadata": {},
     "output_type": "display_data"
    }
   ],
   "source": [
    "dataDump.boxplot(column='UserTotalProductOrder')"
   ]
  },
  {
   "cell_type": "code",
   "execution_count": 104,
   "metadata": {},
   "outputs": [
    {
     "data": {
      "text/plain": [
       "<matplotlib.axes._subplots.AxesSubplot at 0x1a23d64080>"
      ]
     },
     "execution_count": 104,
     "metadata": {},
     "output_type": "execute_result"
    },
    {
     "data": {
      "image/png": "[encoded data removed]",
      "text/plain": [
       "<matplotlib.figure.Figure at 0x1a2485e0b8>"
      ]
     },
     "metadata": {},
     "output_type": "display_data"
    }
   ],
   "source": [
    "dataDump.boxplot(column='UserProductOrdersShare')"
   ]
  },
  {
   "cell_type": "code",
   "execution_count": 105,
   "metadata": {},
   "outputs": [
    {
     "data": {
      "text/plain": [
       "<matplotlib.axes._subplots.AxesSubplot at 0x1a2487cef0>"
      ]
     },
     "execution_count": 105,
     "metadata": {},
     "output_type": "execute_result"
    },
    {
     "data": {
      "image/png": "[encoded data removed]",
      "text/plain": [
       "<matplotlib.figure.Figure at 0x1a240c0fd0>"
      ]
     },
     "metadata": {},
     "output_type": "display_data"
    }
   ],
   "source": [
    "dataDump.boxplot(column='UserMedianDaysSincePriorOrder')"
   ]
  },
  {
   "cell_type": "code",
   "execution_count": 106,
   "metadata": {},
   "outputs": [
    {
     "data": {
      "text/plain": [
       "<matplotlib.axes._subplots.AxesSubplot at 0x1a23f0eda0>"
      ]
     },
     "execution_count": 106,
     "metadata": {},
     "output_type": "execute_result"
    },
    {
     "data": {
      "image/png": "[encoded data removed]",
      "text/plain": [
       "<matplotlib.figure.Figure at 0x1a241b9208>"
      ]
     },
     "metadata": {},
     "output_type": "display_data"
    }
   ],
   "source": [
    "dataDump.boxplot(column='TotalReorderedPerProduct')"
   ]
  },
  {
   "cell_type": "code",
   "execution_count": 111,
   "metadata": {},
   "outputs": [
    {
     "name": "stdout",
     "output_type": "stream",
     "text": [
      "Q1: 9.0 Q3: 35.0 IQR 26.0\n",
      "Lower Bound: -30.0 Higher Bound: 74.0\n",
      "Amount of Outliers: 685859\n",
      "Percentage: 0.04947140549170477\n",
      "Dropped\n"
     ]
    }
   ],
   "source": [
    "dataDump = remove_outlier(dataDump, \"UserTotalOrder\")"
   ]
  },
  {
   "cell_type": "code",
   "execution_count": 108,
   "metadata": {},
   "outputs": [],
   "source": [
    "#dataDump = remove_outlier(dataDump, \"UserMedianDaysSincePriorOrder\")"
   ]
  },
  {
   "cell_type": "code",
   "execution_count": 112,
   "metadata": {},
   "outputs": [
    {
     "name": "stdout",
     "output_type": "stream",
     "text": [
      "Q1: 0.047619047619047616 Q3: 0.2 IQR 0.1523809523809524\n",
      "Lower Bound: -0.18095238095238098 Higher Bound: 0.4285714285714286\n",
      "Amount of Outliers: 770922\n",
      "Percentage: 0.05863222951113418\n",
      "Imputed with mean: 0.1476587892837288\n"
     ]
    }
   ],
   "source": [
    "dataDump = remove_outlier(dataDump, \"UserProductOrdersShare\")"
   ]
  },
  {
   "cell_type": "code",
   "execution_count": 114,
   "metadata": {},
   "outputs": [
    {
     "name": "stdout",
     "output_type": "stream",
     "text": [
      "Q1: 7.0 Q3: 17.0 IQR 10.0\n",
      "Lower Bound: -8.0 Higher Bound: 32.0\n",
      "Amount of Outliers: 0\n",
      "Percentage: 0.0\n",
      "Dropped\n"
     ]
    }
   ],
   "source": [
    "dataDump = remove_outlier(dataDump, \"UserMedianDaysSincePriorOrder\")"
   ]
  },
  {
   "cell_type": "code",
   "execution_count": 115,
   "metadata": {},
   "outputs": [
    {
     "name": "stdout",
     "output_type": "stream",
     "text": [
      "Q1: 7.0 Q3: 151.0 IQR 144.0\n",
      "Lower Bound: -209.0 Higher Bound: 367.0\n",
      "Amount of Outliers: 1810682\n",
      "Percentage: 0.13771084830330366\n",
      "Imputed with mean: 462.14212227067964\n"
     ]
    }
   ],
   "source": [
    "dataDump = remove_outlier(dataDump, \"TotalReorderedPerProduct\")"
   ]
  },
  {
   "cell_type": "code",
   "execution_count": 116,
   "metadata": {},
   "outputs": [
    {
     "data": {
      "text/html": [
       "<div>\n",
       "<style scoped>\n",
       "    .dataframe tbody tr th:only-of-type {\n",
       "        vertical-align: middle;\n",
       "    }\n",
       "\n",
       "    .dataframe tbody tr th {\n",
       "        vertical-align: top;\n",
       "    }\n",
       "\n",
       "    .dataframe thead th {\n",
       "        text-align: right;\n",
       "    }\n",
       "</style>\n",
       "<table border=\"1\" class=\"dataframe\">\n",
       "  <thead>\n",
       "    <tr style=\"text-align: right;\">\n",
       "      <th></th>\n",
       "      <th>OrderID</th>\n",
       "      <th>ProductID</th>\n",
       "      <th>UserID</th>\n",
       "      <th>UserTotalOrder</th>\n",
       "      <th>UserTotalProductOrder</th>\n",
       "      <th>UserProductOrdersShare</th>\n",
       "      <th>UserMedianDaysSincePriorOrder</th>\n",
       "      <th>TotalReorderedPerProduct</th>\n",
       "    </tr>\n",
       "  </thead>\n",
       "  <tbody>\n",
       "    <tr>\n",
       "      <th>count</th>\n",
       "      <td>1.314843e+07</td>\n",
       "      <td>1.314843e+07</td>\n",
       "      <td>1.314843e+07</td>\n",
       "      <td>1.314843e+07</td>\n",
       "      <td>1.314843e+07</td>\n",
       "      <td>1.314843e+07</td>\n",
       "      <td>1.314843e+07</td>\n",
       "      <td>1.197798e+07</td>\n",
       "    </tr>\n",
       "    <tr>\n",
       "      <th>mean</th>\n",
       "      <td>1.501624e+06</td>\n",
       "      <td>2.551600e+04</td>\n",
       "      <td>1.030199e+05</td>\n",
       "      <td>2.233006e+01</td>\n",
       "      <td>2.337204e+00</td>\n",
       "      <td>1.203554e-01</td>\n",
       "      <td>1.266824e+01</td>\n",
       "      <td>1.159276e+02</td>\n",
       "    </tr>\n",
       "    <tr>\n",
       "      <th>std</th>\n",
       "      <td>1.013087e+06</td>\n",
       "      <td>1.422448e+04</td>\n",
       "      <td>5.944223e+04</td>\n",
       "      <td>1.657846e+01</td>\n",
       "      <td>3.181108e+00</td>\n",
       "      <td>9.021406e-02</td>\n",
       "      <td>7.921534e+00</td>\n",
       "      <td>1.627032e+02</td>\n",
       "    </tr>\n",
       "    <tr>\n",
       "      <th>min</th>\n",
       "      <td>1.000000e+00</td>\n",
       "      <td>1.000000e+00</td>\n",
       "      <td>1.000000e+00</td>\n",
       "      <td>4.000000e+00</td>\n",
       "      <td>1.000000e+00</td>\n",
       "      <td>1.369863e-02</td>\n",
       "      <td>0.000000e+00</td>\n",
       "      <td>1.000000e+00</td>\n",
       "    </tr>\n",
       "    <tr>\n",
       "      <th>25%</th>\n",
       "      <td>5.862820e+05</td>\n",
       "      <td>1.329200e+04</td>\n",
       "      <td>5.157200e+04</td>\n",
       "      <td>9.000000e+00</td>\n",
       "      <td>1.000000e+00</td>\n",
       "      <td>4.761905e-02</td>\n",
       "      <td>7.000000e+00</td>\n",
       "      <td>7.000000e+00</td>\n",
       "    </tr>\n",
       "    <tr>\n",
       "      <th>50%</th>\n",
       "      <td>1.407714e+06</td>\n",
       "      <td>2.564000e+04</td>\n",
       "      <td>1.027780e+05</td>\n",
       "      <td>1.700000e+01</td>\n",
       "      <td>1.000000e+00</td>\n",
       "      <td>1.000000e-01</td>\n",
       "      <td>1.000000e+01</td>\n",
       "      <td>2.900000e+01</td>\n",
       "    </tr>\n",
       "    <tr>\n",
       "      <th>75%</th>\n",
       "      <td>2.362088e+06</td>\n",
       "      <td>3.815400e+04</td>\n",
       "      <td>1.545040e+05</td>\n",
       "      <td>3.200000e+01</td>\n",
       "      <td>2.000000e+00</td>\n",
       "      <td>1.666667e-01</td>\n",
       "      <td>1.700000e+01</td>\n",
       "      <td>1.510000e+02</td>\n",
       "    </tr>\n",
       "    <tr>\n",
       "      <th>max</th>\n",
       "      <td>3.421083e+06</td>\n",
       "      <td>4.968800e+04</td>\n",
       "      <td>2.062090e+05</td>\n",
       "      <td>7.300000e+01</td>\n",
       "      <td>7.000000e+01</td>\n",
       "      <td>4.285714e-01</td>\n",
       "      <td>3.000000e+01</td>\n",
       "      <td>4.621421e+02</td>\n",
       "    </tr>\n",
       "  </tbody>\n",
       "</table>\n",
       "</div>"
      ],
      "text/plain": [
       "            OrderID     ProductID        UserID  UserTotalOrder  \\\n",
       "count  1.314843e+07  1.314843e+07  1.314843e+07    1.314843e+07   \n",
       "mean   1.501624e+06  2.551600e+04  1.030199e+05    2.233006e+01   \n",
       "std    1.013087e+06  1.422448e+04  5.944223e+04    1.657846e+01   \n",
       "min    1.000000e+00  1.000000e+00  1.000000e+00    4.000000e+00   \n",
       "25%    5.862820e+05  1.329200e+04  5.157200e+04    9.000000e+00   \n",
       "50%    1.407714e+06  2.564000e+04  1.027780e+05    1.700000e+01   \n",
       "75%    2.362088e+06  3.815400e+04  1.545040e+05    3.200000e+01   \n",
       "max    3.421083e+06  4.968800e+04  2.062090e+05    7.300000e+01   \n",
       "\n",
       "       UserTotalProductOrder  UserProductOrdersShare  \\\n",
       "count           1.314843e+07            1.314843e+07   \n",
       "mean            2.337204e+00            1.203554e-01   \n",
       "std             3.181108e+00            9.021406e-02   \n",
       "min             1.000000e+00            1.369863e-02   \n",
       "25%             1.000000e+00            4.761905e-02   \n",
       "50%             1.000000e+00            1.000000e-01   \n",
       "75%             2.000000e+00            1.666667e-01   \n",
       "max             7.000000e+01            4.285714e-01   \n",
       "\n",
       "       UserMedianDaysSincePriorOrder  TotalReorderedPerProduct  \n",
       "count                   1.314843e+07              1.197798e+07  \n",
       "mean                    1.266824e+01              1.159276e+02  \n",
       "std                     7.921534e+00              1.627032e+02  \n",
       "min                     0.000000e+00              1.000000e+00  \n",
       "25%                     7.000000e+00              7.000000e+00  \n",
       "50%                     1.000000e+01              2.900000e+01  \n",
       "75%                     1.700000e+01              1.510000e+02  \n",
       "max                     3.000000e+01              4.621421e+02  "
      ]
     },
     "execution_count": 116,
     "metadata": {},
     "output_type": "execute_result"
    }
   ],
   "source": [
    "dataDump.describe()"
   ]
  },
  {
   "cell_type": "code",
   "execution_count": 129,
   "metadata": {},
   "outputs": [],
   "source": [
    "dataDump.reset_index(drop= True, inplace = True)"
   ]
  },
  {
   "cell_type": "code",
   "execution_count": 122,
   "metadata": {},
   "outputs": [
    {
     "data": {
      "text/plain": [
       "array([[<matplotlib.axes._subplots.AxesSubplot object at 0x1a4b390320>]],\n",
       "      dtype=object)"
      ]
     },
     "execution_count": 122,
     "metadata": {},
     "output_type": "execute_result"
    },
    {
     "data": {
      "image/png": "[encoded data removed]",
      "text/plain": [
       "<matplotlib.figure.Figure at 0x1a23d2ea20>"
      ]
     },
     "metadata": {},
     "output_type": "display_data"
    }
   ],
   "source": [
    "dataDump.hist(column= \"UserTotalOrder\")"
   ]
  },
  {
   "cell_type": "code",
   "execution_count": 157,
   "metadata": {},
   "outputs": [],
   "source": [
    "def makeBins(df, bins, binLabels, column_name):\n",
    "    df[column_name + \"_bin\"] = pd.cut(df[column_name], bins,labels = binLabels)\n",
    "def getBins(df, column_name):\n",
    "    df.hist(column= column_name)\n",
    "    count, division = np.histogram(df[column_name])\n",
    "    print(\"Count in Bins:\", count, \"\\nBins:\", division, \"\\nAmount of Bins:\", len(division))"
   ]
  },
  {
   "cell_type": "code",
   "execution_count": 133,
   "metadata": {},
   "outputs": [
    {
     "data": {
      "text/html": [
       "<div>\n",
       "<style scoped>\n",
       "    .dataframe tbody tr th:only-of-type {\n",
       "        vertical-align: middle;\n",
       "    }\n",
       "\n",
       "    .dataframe tbody tr th {\n",
       "        vertical-align: top;\n",
       "    }\n",
       "\n",
       "    .dataframe thead th {\n",
       "        text-align: right;\n",
       "    }\n",
       "</style>\n",
       "<table border=\"1\" class=\"dataframe\">\n",
       "  <thead>\n",
       "    <tr style=\"text-align: right;\">\n",
       "      <th></th>\n",
       "      <th>OrderID</th>\n",
       "      <th>ProductID</th>\n",
       "      <th>reordered</th>\n",
       "      <th>UserID</th>\n",
       "      <th>UserTotalOrder</th>\n",
       "      <th>UserTotalProductOrder</th>\n",
       "      <th>UserProductOrdersShare</th>\n",
       "      <th>UserMedianDaysSincePriorOrder</th>\n",
       "      <th>TotalReorderedPerProduct</th>\n",
       "      <th>UserTotalOrder_bin</th>\n",
       "    </tr>\n",
       "  </thead>\n",
       "  <tbody>\n",
       "    <tr>\n",
       "      <th>0</th>\n",
       "      <td>2</td>\n",
       "      <td>33120</td>\n",
       "      <td>True</td>\n",
       "      <td>202279</td>\n",
       "      <td>9</td>\n",
       "      <td>6</td>\n",
       "      <td>0.147659</td>\n",
       "      <td>27.0</td>\n",
       "      <td>6.0</td>\n",
       "      <td>0-10</td>\n",
       "    </tr>\n",
       "    <tr>\n",
       "      <th>1</th>\n",
       "      <td>26</td>\n",
       "      <td>33120</td>\n",
       "      <td>False</td>\n",
       "      <td>153404</td>\n",
       "      <td>33</td>\n",
       "      <td>5</td>\n",
       "      <td>0.151515</td>\n",
       "      <td>8.0</td>\n",
       "      <td>6.0</td>\n",
       "      <td>30-40</td>\n",
       "    </tr>\n",
       "    <tr>\n",
       "      <th>2</th>\n",
       "      <td>1632223</td>\n",
       "      <td>33120</td>\n",
       "      <td>False</td>\n",
       "      <td>69984</td>\n",
       "      <td>23</td>\n",
       "      <td>1</td>\n",
       "      <td>0.043478</td>\n",
       "      <td>7.0</td>\n",
       "      <td>6.0</td>\n",
       "      <td>20-30</td>\n",
       "    </tr>\n",
       "    <tr>\n",
       "      <th>3</th>\n",
       "      <td>618528</td>\n",
       "      <td>33120</td>\n",
       "      <td>False</td>\n",
       "      <td>3321</td>\n",
       "      <td>33</td>\n",
       "      <td>4</td>\n",
       "      <td>0.121212</td>\n",
       "      <td>9.0</td>\n",
       "      <td>6.0</td>\n",
       "      <td>30-40</td>\n",
       "    </tr>\n",
       "    <tr>\n",
       "      <th>4</th>\n",
       "      <td>21527</td>\n",
       "      <td>33120</td>\n",
       "      <td>False</td>\n",
       "      <td>141357</td>\n",
       "      <td>53</td>\n",
       "      <td>2</td>\n",
       "      <td>0.037736</td>\n",
       "      <td>7.0</td>\n",
       "      <td>6.0</td>\n",
       "      <td>50-60</td>\n",
       "    </tr>\n",
       "  </tbody>\n",
       "</table>\n",
       "</div>"
      ],
      "text/plain": [
       "   OrderID  ProductID  reordered  UserID  UserTotalOrder  \\\n",
       "0        2      33120       True  202279               9   \n",
       "1       26      33120      False  153404              33   \n",
       "2  1632223      33120      False   69984              23   \n",
       "3   618528      33120      False    3321              33   \n",
       "4    21527      33120      False  141357              53   \n",
       "\n",
       "   UserTotalProductOrder  UserProductOrdersShare  \\\n",
       "0                      6                0.147659   \n",
       "1                      5                0.151515   \n",
       "2                      1                0.043478   \n",
       "3                      4                0.121212   \n",
       "4                      2                0.037736   \n",
       "\n",
       "   UserMedianDaysSincePriorOrder  TotalReorderedPerProduct UserTotalOrder_bin  \n",
       "0                           27.0                       6.0               0-10  \n",
       "1                            8.0                       6.0              30-40  \n",
       "2                            7.0                       6.0              20-30  \n",
       "3                            9.0                       6.0              30-40  \n",
       "4                            7.0                       6.0              50-60  "
      ]
     },
     "execution_count": 133,
     "metadata": {},
     "output_type": "execute_result"
    }
   ],
   "source": [
    "UserTotalOrderBinLabels = [\"0-10\", \"10-20\",\"20-30\",\"30-40\", \"40-50\", \"50-60\", \"60-70\", \"70-80\"]\n",
    "UserTotalOrderBins = [0,10,20,30,40,50,60,70,80]\n",
    "makeBins(dataDump,UserTotalOrderBins,UserTotalOrderBinLabels, \"UserTotalOrder\")\n",
    "dataDump.head()"
   ]
  },
  {
   "cell_type": "code",
   "execution_count": 158,
   "metadata": {},
   "outputs": [
    {
     "name": "stdout",
     "output_type": "stream",
     "text": [
      "Count in Bins: [12500202   467443   113912    39791    15983     6956     2931      967\n",
      "      199       50] \n",
      "Bins: [ 1.   7.9 14.8 21.7 28.6 35.5 42.4 49.3 56.2 63.1 70. ] \n",
      "Amount of Bins: 11\n"
     ]
    },
    {
     "data": {
      "image/png": "[encoded data removed]",
      "text/plain": [
       "<matplotlib.figure.Figure at 0x1a3522c780>"
      ]
     },
     "metadata": {},
     "output_type": "display_data"
    }
   ],
   "source": [
    "getBins(dataDump, \"UserTotalProductOrder\")"
   ]
  },
  {
   "cell_type": "code",
   "execution_count": 159,
   "metadata": {},
   "outputs": [
    {
     "data": {
      "text/html": [
       "<div>\n",
       "<style scoped>\n",
       "    .dataframe tbody tr th:only-of-type {\n",
       "        vertical-align: middle;\n",
       "    }\n",
       "\n",
       "    .dataframe tbody tr th {\n",
       "        vertical-align: top;\n",
       "    }\n",
       "\n",
       "    .dataframe thead th {\n",
       "        text-align: right;\n",
       "    }\n",
       "</style>\n",
       "<table border=\"1\" class=\"dataframe\">\n",
       "  <thead>\n",
       "    <tr style=\"text-align: right;\">\n",
       "      <th></th>\n",
       "      <th>OrderID</th>\n",
       "      <th>ProductID</th>\n",
       "      <th>reordered</th>\n",
       "      <th>UserID</th>\n",
       "      <th>UserTotalOrder</th>\n",
       "      <th>UserTotalProductOrder</th>\n",
       "      <th>UserProductOrdersShare</th>\n",
       "      <th>UserMedianDaysSincePriorOrder</th>\n",
       "      <th>TotalReorderedPerProduct</th>\n",
       "      <th>UserTotalOrder_bin</th>\n",
       "      <th>UserTotalProductOrder_bin</th>\n",
       "    </tr>\n",
       "  </thead>\n",
       "  <tbody>\n",
       "    <tr>\n",
       "      <th>0</th>\n",
       "      <td>2</td>\n",
       "      <td>33120</td>\n",
       "      <td>True</td>\n",
       "      <td>202279</td>\n",
       "      <td>9</td>\n",
       "      <td>6</td>\n",
       "      <td>0.147659</td>\n",
       "      <td>27.0</td>\n",
       "      <td>6.0</td>\n",
       "      <td>0-10</td>\n",
       "      <td>0-7</td>\n",
       "    </tr>\n",
       "    <tr>\n",
       "      <th>1</th>\n",
       "      <td>26</td>\n",
       "      <td>33120</td>\n",
       "      <td>False</td>\n",
       "      <td>153404</td>\n",
       "      <td>33</td>\n",
       "      <td>5</td>\n",
       "      <td>0.151515</td>\n",
       "      <td>8.0</td>\n",
       "      <td>6.0</td>\n",
       "      <td>30-40</td>\n",
       "      <td>0-7</td>\n",
       "    </tr>\n",
       "    <tr>\n",
       "      <th>2</th>\n",
       "      <td>1632223</td>\n",
       "      <td>33120</td>\n",
       "      <td>False</td>\n",
       "      <td>69984</td>\n",
       "      <td>23</td>\n",
       "      <td>1</td>\n",
       "      <td>0.043478</td>\n",
       "      <td>7.0</td>\n",
       "      <td>6.0</td>\n",
       "      <td>20-30</td>\n",
       "      <td>0-7</td>\n",
       "    </tr>\n",
       "    <tr>\n",
       "      <th>3</th>\n",
       "      <td>618528</td>\n",
       "      <td>33120</td>\n",
       "      <td>False</td>\n",
       "      <td>3321</td>\n",
       "      <td>33</td>\n",
       "      <td>4</td>\n",
       "      <td>0.121212</td>\n",
       "      <td>9.0</td>\n",
       "      <td>6.0</td>\n",
       "      <td>30-40</td>\n",
       "      <td>0-7</td>\n",
       "    </tr>\n",
       "    <tr>\n",
       "      <th>4</th>\n",
       "      <td>21527</td>\n",
       "      <td>33120</td>\n",
       "      <td>False</td>\n",
       "      <td>141357</td>\n",
       "      <td>53</td>\n",
       "      <td>2</td>\n",
       "      <td>0.037736</td>\n",
       "      <td>7.0</td>\n",
       "      <td>6.0</td>\n",
       "      <td>50-60</td>\n",
       "      <td>0-7</td>\n",
       "    </tr>\n",
       "  </tbody>\n",
       "</table>\n",
       "</div>"
      ],
      "text/plain": [
       "   OrderID  ProductID  reordered  UserID  UserTotalOrder  \\\n",
       "0        2      33120       True  202279               9   \n",
       "1       26      33120      False  153404              33   \n",
       "2  1632223      33120      False   69984              23   \n",
       "3   618528      33120      False    3321              33   \n",
       "4    21527      33120      False  141357              53   \n",
       "\n",
       "   UserTotalProductOrder  UserProductOrdersShare  \\\n",
       "0                      6                0.147659   \n",
       "1                      5                0.151515   \n",
       "2                      1                0.043478   \n",
       "3                      4                0.121212   \n",
       "4                      2                0.037736   \n",
       "\n",
       "   UserMedianDaysSincePriorOrder  TotalReorderedPerProduct UserTotalOrder_bin  \\\n",
       "0                           27.0                       6.0               0-10   \n",
       "1                            8.0                       6.0              30-40   \n",
       "2                            7.0                       6.0              20-30   \n",
       "3                            9.0                       6.0              30-40   \n",
       "4                            7.0                       6.0              50-60   \n",
       "\n",
       "  UserTotalProductOrder_bin  \n",
       "0                       0-7  \n",
       "1                       0-7  \n",
       "2                       0-7  \n",
       "3                       0-7  \n",
       "4                       0-7  "
      ]
     },
     "execution_count": 159,
     "metadata": {},
     "output_type": "execute_result"
    }
   ],
   "source": [
    "UserTotalProductOrderBinLabels = [\"0-7\", \"7-14\",\"14-21\",\"21-28\", \"28-35\", \"35-42\", \"42-49\", \"49-56\", \"56-63\", \"63-70\"]\n",
    "UserTotalProductOrderBins = [0,7,14,21,28,35,42,49,56,63,70]\n",
    "makeBins(dataDump,UserTotalProductOrderBins,UserTotalProductOrderBinLabels, \"UserTotalProductOrder\")\n",
    "dataDump.head()"
   ]
  },
  {
   "cell_type": "code",
   "execution_count": 161,
   "metadata": {},
   "outputs": [
    {
     "name": "stdout",
     "output_type": "stream",
     "text": [
      "Count in Bins: [3768001 2730884 1742019 2139496  892085  900246  312225  270978  149727\n",
      "  242773] \n",
      "Bins: [0.01369863 0.05518591 0.09667319 0.13816047 0.17964775 0.22113503\n",
      " 0.26262231 0.30410959 0.34559687 0.38708415 0.42857143] \n",
      "Amount of Bins: 11\n"
     ]
    },
    {
     "data": {
      "image/png": "[encoded data removed]",
      "text/plain": [
       "<matplotlib.figure.Figure at 0x1a35305668>"
      ]
     },
     "metadata": {},
     "output_type": "display_data"
    }
   ],
   "source": [
    "getBins(dataDump, \"UserProductOrdersShare\")"
   ]
  },
  {
   "cell_type": "code",
   "execution_count": 163,
   "metadata": {},
   "outputs": [
    {
     "data": {
      "text/html": [
       "<div>\n",
       "<style scoped>\n",
       "    .dataframe tbody tr th:only-of-type {\n",
       "        vertical-align: middle;\n",
       "    }\n",
       "\n",
       "    .dataframe tbody tr th {\n",
       "        vertical-align: top;\n",
       "    }\n",
       "\n",
       "    .dataframe thead th {\n",
       "        text-align: right;\n",
       "    }\n",
       "</style>\n",
       "<table border=\"1\" class=\"dataframe\">\n",
       "  <thead>\n",
       "    <tr style=\"text-align: right;\">\n",
       "      <th></th>\n",
       "      <th>OrderID</th>\n",
       "      <th>ProductID</th>\n",
       "      <th>reordered</th>\n",
       "      <th>UserID</th>\n",
       "      <th>UserTotalOrder</th>\n",
       "      <th>UserTotalProductOrder</th>\n",
       "      <th>UserProductOrdersShare</th>\n",
       "      <th>UserMedianDaysSincePriorOrder</th>\n",
       "      <th>TotalReorderedPerProduct</th>\n",
       "      <th>UserTotalOrder_bin</th>\n",
       "      <th>UserTotalProductOrder_bin</th>\n",
       "      <th>UserProductOrdersShare_bin</th>\n",
       "    </tr>\n",
       "  </thead>\n",
       "  <tbody>\n",
       "    <tr>\n",
       "      <th>0</th>\n",
       "      <td>2</td>\n",
       "      <td>33120</td>\n",
       "      <td>True</td>\n",
       "      <td>202279</td>\n",
       "      <td>9</td>\n",
       "      <td>6</td>\n",
       "      <td>0.147659</td>\n",
       "      <td>27.0</td>\n",
       "      <td>6.0</td>\n",
       "      <td>0-10</td>\n",
       "      <td>0-7</td>\n",
       "      <td>10-15%</td>\n",
       "    </tr>\n",
       "    <tr>\n",
       "      <th>1</th>\n",
       "      <td>26</td>\n",
       "      <td>33120</td>\n",
       "      <td>False</td>\n",
       "      <td>153404</td>\n",
       "      <td>33</td>\n",
       "      <td>5</td>\n",
       "      <td>0.151515</td>\n",
       "      <td>8.0</td>\n",
       "      <td>6.0</td>\n",
       "      <td>30-40</td>\n",
       "      <td>0-7</td>\n",
       "      <td>15-20%</td>\n",
       "    </tr>\n",
       "    <tr>\n",
       "      <th>2</th>\n",
       "      <td>1632223</td>\n",
       "      <td>33120</td>\n",
       "      <td>False</td>\n",
       "      <td>69984</td>\n",
       "      <td>23</td>\n",
       "      <td>1</td>\n",
       "      <td>0.043478</td>\n",
       "      <td>7.0</td>\n",
       "      <td>6.0</td>\n",
       "      <td>20-30</td>\n",
       "      <td>0-7</td>\n",
       "      <td>0-5%</td>\n",
       "    </tr>\n",
       "    <tr>\n",
       "      <th>3</th>\n",
       "      <td>618528</td>\n",
       "      <td>33120</td>\n",
       "      <td>False</td>\n",
       "      <td>3321</td>\n",
       "      <td>33</td>\n",
       "      <td>4</td>\n",
       "      <td>0.121212</td>\n",
       "      <td>9.0</td>\n",
       "      <td>6.0</td>\n",
       "      <td>30-40</td>\n",
       "      <td>0-7</td>\n",
       "      <td>10-15%</td>\n",
       "    </tr>\n",
       "    <tr>\n",
       "      <th>4</th>\n",
       "      <td>21527</td>\n",
       "      <td>33120</td>\n",
       "      <td>False</td>\n",
       "      <td>141357</td>\n",
       "      <td>53</td>\n",
       "      <td>2</td>\n",
       "      <td>0.037736</td>\n",
       "      <td>7.0</td>\n",
       "      <td>6.0</td>\n",
       "      <td>50-60</td>\n",
       "      <td>0-7</td>\n",
       "      <td>0-5%</td>\n",
       "    </tr>\n",
       "  </tbody>\n",
       "</table>\n",
       "</div>"
      ],
      "text/plain": [
       "   OrderID  ProductID  reordered  UserID  UserTotalOrder  \\\n",
       "0        2      33120       True  202279               9   \n",
       "1       26      33120      False  153404              33   \n",
       "2  1632223      33120      False   69984              23   \n",
       "3   618528      33120      False    3321              33   \n",
       "4    21527      33120      False  141357              53   \n",
       "\n",
       "   UserTotalProductOrder  UserProductOrdersShare  \\\n",
       "0                      6                0.147659   \n",
       "1                      5                0.151515   \n",
       "2                      1                0.043478   \n",
       "3                      4                0.121212   \n",
       "4                      2                0.037736   \n",
       "\n",
       "   UserMedianDaysSincePriorOrder  TotalReorderedPerProduct UserTotalOrder_bin  \\\n",
       "0                           27.0                       6.0               0-10   \n",
       "1                            8.0                       6.0              30-40   \n",
       "2                            7.0                       6.0              20-30   \n",
       "3                            9.0                       6.0              30-40   \n",
       "4                            7.0                       6.0              50-60   \n",
       "\n",
       "  UserTotalProductOrder_bin UserProductOrdersShare_bin  \n",
       "0                       0-7                     10-15%  \n",
       "1                       0-7                     15-20%  \n",
       "2                       0-7                       0-5%  \n",
       "3                       0-7                     10-15%  \n",
       "4                       0-7                       0-5%  "
      ]
     },
     "execution_count": 163,
     "metadata": {},
     "output_type": "execute_result"
    }
   ],
   "source": [
    "UserProductOrdersShareBinLabels = [\"0-5%\", \"5-10%\",\"10-15%\",\"15-20%\", \"20-25%\", \"25-30%\", \"30-35%\", \"35-40%\", \"40-45%\"]\n",
    "UserProductOrdersShareBins = [0.0,0.05,0.10,0.15,0.20,0.25,0.30,0.35,0.40,0.45]\n",
    "makeBins(dataDump,UserProductOrdersShareBins,UserProductOrdersShareBinLabels, \"UserProductOrdersShare\")\n",
    "dataDump.head()"
   ]
  },
  {
   "cell_type": "code",
   "execution_count": 164,
   "metadata": {},
   "outputs": [
    {
     "name": "stdout",
     "output_type": "stream",
     "text": [
      "Count in Bins: [  99744 1697976 4014979 1799173 1552446  921862  663169  577437  407629\n",
      " 1414019] \n",
      "Bins: [ 0.  3.  6.  9. 12. 15. 18. 21. 24. 27. 30.] \n",
      "Amount of Bins: 11\n"
     ]
    },
    {
     "data": {
      "image/png": "[encoded data removed]",
      "text/plain": [
       "<matplotlib.figure.Figure at 0x1a354da748>"
      ]
     },
     "metadata": {},
     "output_type": "display_data"
    }
   ],
   "source": [
    "getBins(dataDump, \"UserMedianDaysSincePriorOrder\")"
   ]
  },
  {
   "cell_type": "code",
   "execution_count": 165,
   "metadata": {},
   "outputs": [
    {
     "data": {
      "text/html": [
       "<div>\n",
       "<style scoped>\n",
       "    .dataframe tbody tr th:only-of-type {\n",
       "        vertical-align: middle;\n",
       "    }\n",
       "\n",
       "    .dataframe tbody tr th {\n",
       "        vertical-align: top;\n",
       "    }\n",
       "\n",
       "    .dataframe thead th {\n",
       "        text-align: right;\n",
       "    }\n",
       "</style>\n",
       "<table border=\"1\" class=\"dataframe\">\n",
       "  <thead>\n",
       "    <tr style=\"text-align: right;\">\n",
       "      <th></th>\n",
       "      <th>OrderID</th>\n",
       "      <th>ProductID</th>\n",
       "      <th>reordered</th>\n",
       "      <th>UserID</th>\n",
       "      <th>UserTotalOrder</th>\n",
       "      <th>UserTotalProductOrder</th>\n",
       "      <th>UserProductOrdersShare</th>\n",
       "      <th>UserMedianDaysSincePriorOrder</th>\n",
       "      <th>TotalReorderedPerProduct</th>\n",
       "      <th>UserTotalOrder_bin</th>\n",
       "      <th>UserTotalProductOrder_bin</th>\n",
       "      <th>UserProductOrdersShare_bin</th>\n",
       "      <th>UserMedianDaysSincePriorOrder_bin</th>\n",
       "    </tr>\n",
       "  </thead>\n",
       "  <tbody>\n",
       "    <tr>\n",
       "      <th>0</th>\n",
       "      <td>2</td>\n",
       "      <td>33120</td>\n",
       "      <td>True</td>\n",
       "      <td>202279</td>\n",
       "      <td>9</td>\n",
       "      <td>6</td>\n",
       "      <td>0.147659</td>\n",
       "      <td>27.0</td>\n",
       "      <td>6.0</td>\n",
       "      <td>0-10</td>\n",
       "      <td>0-7</td>\n",
       "      <td>10-15%</td>\n",
       "      <td>24-27</td>\n",
       "    </tr>\n",
       "    <tr>\n",
       "      <th>1</th>\n",
       "      <td>26</td>\n",
       "      <td>33120</td>\n",
       "      <td>False</td>\n",
       "      <td>153404</td>\n",
       "      <td>33</td>\n",
       "      <td>5</td>\n",
       "      <td>0.151515</td>\n",
       "      <td>8.0</td>\n",
       "      <td>6.0</td>\n",
       "      <td>30-40</td>\n",
       "      <td>0-7</td>\n",
       "      <td>15-20%</td>\n",
       "      <td>6-9</td>\n",
       "    </tr>\n",
       "    <tr>\n",
       "      <th>2</th>\n",
       "      <td>1632223</td>\n",
       "      <td>33120</td>\n",
       "      <td>False</td>\n",
       "      <td>69984</td>\n",
       "      <td>23</td>\n",
       "      <td>1</td>\n",
       "      <td>0.043478</td>\n",
       "      <td>7.0</td>\n",
       "      <td>6.0</td>\n",
       "      <td>20-30</td>\n",
       "      <td>0-7</td>\n",
       "      <td>0-5%</td>\n",
       "      <td>6-9</td>\n",
       "    </tr>\n",
       "    <tr>\n",
       "      <th>3</th>\n",
       "      <td>618528</td>\n",
       "      <td>33120</td>\n",
       "      <td>False</td>\n",
       "      <td>3321</td>\n",
       "      <td>33</td>\n",
       "      <td>4</td>\n",
       "      <td>0.121212</td>\n",
       "      <td>9.0</td>\n",
       "      <td>6.0</td>\n",
       "      <td>30-40</td>\n",
       "      <td>0-7</td>\n",
       "      <td>10-15%</td>\n",
       "      <td>6-9</td>\n",
       "    </tr>\n",
       "    <tr>\n",
       "      <th>4</th>\n",
       "      <td>21527</td>\n",
       "      <td>33120</td>\n",
       "      <td>False</td>\n",
       "      <td>141357</td>\n",
       "      <td>53</td>\n",
       "      <td>2</td>\n",
       "      <td>0.037736</td>\n",
       "      <td>7.0</td>\n",
       "      <td>6.0</td>\n",
       "      <td>50-60</td>\n",
       "      <td>0-7</td>\n",
       "      <td>0-5%</td>\n",
       "      <td>6-9</td>\n",
       "    </tr>\n",
       "  </tbody>\n",
       "</table>\n",
       "</div>"
      ],
      "text/plain": [
       "   OrderID  ProductID  reordered  UserID  UserTotalOrder  \\\n",
       "0        2      33120       True  202279               9   \n",
       "1       26      33120      False  153404              33   \n",
       "2  1632223      33120      False   69984              23   \n",
       "3   618528      33120      False    3321              33   \n",
       "4    21527      33120      False  141357              53   \n",
       "\n",
       "   UserTotalProductOrder  UserProductOrdersShare  \\\n",
       "0                      6                0.147659   \n",
       "1                      5                0.151515   \n",
       "2                      1                0.043478   \n",
       "3                      4                0.121212   \n",
       "4                      2                0.037736   \n",
       "\n",
       "   UserMedianDaysSincePriorOrder  TotalReorderedPerProduct UserTotalOrder_bin  \\\n",
       "0                           27.0                       6.0               0-10   \n",
       "1                            8.0                       6.0              30-40   \n",
       "2                            7.0                       6.0              20-30   \n",
       "3                            9.0                       6.0              30-40   \n",
       "4                            7.0                       6.0              50-60   \n",
       "\n",
       "  UserTotalProductOrder_bin UserProductOrdersShare_bin  \\\n",
       "0                       0-7                     10-15%   \n",
       "1                       0-7                     15-20%   \n",
       "2                       0-7                       0-5%   \n",
       "3                       0-7                     10-15%   \n",
       "4                       0-7                       0-5%   \n",
       "\n",
       "  UserMedianDaysSincePriorOrder_bin  \n",
       "0                             24-27  \n",
       "1                               6-9  \n",
       "2                               6-9  \n",
       "3                               6-9  \n",
       "4                               6-9  "
      ]
     },
     "execution_count": 165,
     "metadata": {},
     "output_type": "execute_result"
    }
   ],
   "source": [
    "UserMedianDaysSincePriorOrderBinLabels = [ \"0-3\",\"3-6\",\"6-9\",\"9-12\",\"12-15\",\"15-18\",\"18-21\",\"21-24\",\"24-27\",\"27-30\"] \n",
    "UserMedianDaysSincePriorOrderBins = [ 0,3,6,9,12,15,18,21,24,27,30] \n",
    "makeBins(dataDump,UserMedianDaysSincePriorOrderBins,UserMedianDaysSincePriorOrderBinLabels, \"UserMedianDaysSincePriorOrder\")\n",
    "dataDump.head()"
   ]
  },
  {
   "cell_type": "code",
   "execution_count": 171,
   "metadata": {},
   "outputs": [
    {
     "name": "stdout",
     "output_type": "stream",
     "text": [
      "Count in Bins: [8075806 1306755  650384  430625  341940  166930  187899  177413       0\n",
      " 1810682] \n",
      "Bins: [  0.          46.21421223  92.42842445 138.64263668 184.85684891\n",
      " 231.07106114 277.28527336 323.49948559 369.71369782 415.92791004\n",
      " 462.14212227] \n",
      "Amount of Bins: 11\n"
     ]
    },
    {
     "data": {
      "image/png": "[encoded data removed]",
      "text/plain": [
       "<matplotlib.figure.Figure at 0x1a35741d30>"
      ]
     },
     "metadata": {},
     "output_type": "display_data"
    }
   ],
   "source": [
    "dataDump.fillna(value= {\"TotalReorderedPerProduct\" : 0}, inplace = True)\n",
    "getBins(dataDump, \"TotalReorderedPerProduct\")"
   ]
  },
  {
   "cell_type": "code",
   "execution_count": null,
   "metadata": {},
   "outputs": [],
   "source": [
    "TotalReorderedPerProductOrderBinLabels = [ \"0-3\",\"3-6\",\"6-9\",\"9-12\",\"12-15\",\"15-18\",\"18-21\",\"21-24\",\"24-27\",\"27-30\"] \n",
    "UserMedianDaysSincePriorOrderBins = [ 0,3,6,9,12,15,18,21,24,27,30] \n",
    "makeBins(dataDump,UserMedianDaysSincePriorOrderBins,UserMedianDaysSincePriorOrderBinLabels, \"UserMedianDaysSincePriorOrder\")\n",
    "dataDump.head()"
   ]
  },
  {
   "cell_type": "code",
   "execution_count": null,
   "metadata": {},
   "outputs": [],
   "source": []
  }
 ],
 "metadata": {
  "kernelspec": {
   "display_name": "Python 3",
   "language": "python",
   "name": "python3"
  },
  "language_info": {
   "codemirror_mode": {
    "name": "ipython",
    "version": 3
   },
   "file_extension": ".py",
   "mimetype": "text/x-python",
   "name": "python",
   "nbconvert_exporter": "python",
   "pygments_lexer": "ipython3",
   "version": "3.6.4"
  }
 },
 "nbformat": 4,
 "nbformat_minor": 2
}
