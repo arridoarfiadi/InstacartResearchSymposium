{
 "cells": [
  {
   "cell_type": "code",
   "execution_count": 6,
   "metadata": {},
   "outputs": [],
   "source": [
    "from sklearn.externals import joblib\n",
    "import pandas as pd\n",
    "import numpy as np\n",
    "import pickle\n",
    "import seaborn as sb\n",
    "import matplotlib.pyplot as plt\n",
    "from matplotlib.colors import ListedColormap\n",
    "from sklearn import metrics\n",
    "from sklearn.datasets import make_classification\n",
    "from sklearn.ensemble import RandomForestClassifier\n",
    "from sklearn.linear_model import LogisticRegression\n",
    "from sklearn.naive_bayes import GaussianNB\n",
    "from sklearn.model_selection import train_test_split\n",
    "from sklearn.neighbors import NearestNeighbors"
   ]
  },
  {
   "cell_type": "code",
   "execution_count": 11,
   "metadata": {},
   "outputs": [],
   "source": [
    "mapper = joblib.load(\"userProductTotal_pivot_sparce_mapper.dms\")\n",
    "userProductTotal_pivot_sparce = joblib.load(\"userProductTotal_pivot_sparce.dms\")\n",
    "with open('orig_products.pickle', \"rb\") as f:\n",
    "    products = pickle.load(f)"
   ]
  },
  {
   "cell_type": "code",
   "execution_count": 8,
   "metadata": {},
   "outputs": [],
   "source": [
    "def getIndexForProductID(productID): \n",
    "    return mapper.loc[mapper.ProductID == productID][\"index\"].values[0]\n",
    "\n",
    "def makeProductRecommendation(model, data, productID, numRecommendations):\n",
    "    model.fit(data)\n",
    "    print(\"Product ID inserted:\", productID, products[products.ProductID == productID][\"ProductName\"].to_string(index=False))\n",
    "    print(\"Recommending....\")\n",
    "    distances,indices = model.kneighbors(data[getIndexForProductID(productID)], n_neighbors = numRecommendations + 1)\n",
    "    raw_recommends = \\\n",
    "        sorted(list(zip(indices.squeeze().tolist(), distances.squeeze().tolist())), key=lambda x: x[1])[:0:-1]\n",
    "    # print recommendations\n",
    "    #print(raw_recommends)\n",
    "    for i, (productID, dist) in enumerate(raw_recommends):\n",
    "        print('{0}: {1}, with distance of {2}'.format(i+1, products[products.ProductID == productID][\"ProductName\"].to_string(index=False), dist))"
   ]
  },
  {
   "cell_type": "code",
   "execution_count": 9,
   "metadata": {},
   "outputs": [],
   "source": [
    "knn = NearestNeighbors(metric='cosine', algorithm='brute', n_neighbors=20, n_jobs=-1)"
   ]
  },
  {
   "cell_type": "code",
   "execution_count": 12,
   "metadata": {},
   "outputs": [
    {
     "name": "stdout",
     "output_type": "stream",
     "text": [
      "Product ID inserted: 21137 Organic Strawberries\n",
      "Recommending....\n",
      "1: Unsweetened Strawberry Kiwi Water, with distance of 0.5410525998524192\n",
      "2: Garlic Asiago Brazilian Cheese Bread, with distance of 0.5248754978423431\n",
      "3: Chicken & vegetable dumplings with rice in an ..., with distance of 0.5009665165843328\n",
      "4: Original English Muffins, with distance of 0.4858102812322225\n",
      "5: Mung Bean Pasta, with distance of 0.4801123950004902\n"
     ]
    }
   ],
   "source": [
    "makeProductRecommendation(knn,userProductTotal_pivot_sparce, 21137, 5)"
   ]
  },
  {
   "cell_type": "code",
   "execution_count": null,
   "metadata": {},
   "outputs": [],
   "source": []
  }
 ],
 "metadata": {
  "kernelspec": {
   "display_name": "Python 3",
   "language": "python",
   "name": "python3"
  },
  "language_info": {
   "codemirror_mode": {
    "name": "ipython",
    "version": 3
   },
   "file_extension": ".py",
   "mimetype": "text/x-python",
   "name": "python",
   "nbconvert_exporter": "python",
   "pygments_lexer": "ipython3",
   "version": "3.6.4"
  }
 },
 "nbformat": 4,
 "nbformat_minor": 2
}
