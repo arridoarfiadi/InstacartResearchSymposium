{
 "cells": [
  {
   "cell_type": "markdown",
   "metadata": {},
   "source": [
    "# Import Libraries"
   ]
  },
  {
   "cell_type": "code",
   "execution_count": 2,
   "metadata": {},
   "outputs": [
    {
     "name": "stderr",
     "output_type": "stream",
     "text": [
      "C:\\Users\\cnguyen\\Anaconda3\\lib\\site-packages\\sklearn\\ensemble\\weight_boosting.py:29: DeprecationWarning: numpy.core.umath_tests is an internal NumPy module and should not be imported. It will be removed in a future NumPy release.\n",
      "  from numpy.core.umath_tests import inner1d\n"
     ]
    }
   ],
   "source": [
    "from sklearn.externals import joblib\n",
    "import pandas as pd\n",
    "import numpy as np\n",
    "import seaborn as sb\n",
    "import matplotlib.pyplot as plt\n",
    "from matplotlib.colors import ListedColormap\n",
    "from sklearn import metrics\n",
    "from sklearn.datasets import make_classification\n",
    "from sklearn.ensemble import RandomForestClassifier\n",
    "from sklearn.linear_model import LogisticRegression\n",
    "from sklearn.naive_bayes import GaussianNB\n",
    "from sklearn.model_selection import train_test_split"
   ]
  },
  {
   "cell_type": "markdown",
   "metadata": {},
   "source": [
    "## Load Data Dump "
   ]
  },
  {
   "cell_type": "code",
   "execution_count": 3,
   "metadata": {},
   "outputs": [
    {
     "data": {
      "text/html": [
       "<div>\n",
       "<style scoped>\n",
       "    .dataframe tbody tr th:only-of-type {\n",
       "        vertical-align: middle;\n",
       "    }\n",
       "\n",
       "    .dataframe tbody tr th {\n",
       "        vertical-align: top;\n",
       "    }\n",
       "\n",
       "    .dataframe thead th {\n",
       "        text-align: right;\n",
       "    }\n",
       "</style>\n",
       "<table border=\"1\" class=\"dataframe\">\n",
       "  <thead>\n",
       "    <tr style=\"text-align: right;\">\n",
       "      <th></th>\n",
       "      <th>OrderID</th>\n",
       "      <th>ProductID</th>\n",
       "      <th>reordered</th>\n",
       "      <th>UserID</th>\n",
       "      <th>UserTotalOrder</th>\n",
       "      <th>UserTotalProductOrder</th>\n",
       "      <th>UserProductTotalReordered</th>\n",
       "      <th>UserProductOrdersShare</th>\n",
       "      <th>UserMedianDaysSincePriorOrder</th>\n",
       "    </tr>\n",
       "  </thead>\n",
       "  <tbody>\n",
       "    <tr>\n",
       "      <th>0</th>\n",
       "      <td>2</td>\n",
       "      <td>33120</td>\n",
       "      <td>True</td>\n",
       "      <td>202279</td>\n",
       "      <td>9</td>\n",
       "      <td>6</td>\n",
       "      <td>5.0</td>\n",
       "      <td>0.666667</td>\n",
       "      <td>27.0</td>\n",
       "    </tr>\n",
       "    <tr>\n",
       "      <th>1</th>\n",
       "      <td>2</td>\n",
       "      <td>28985</td>\n",
       "      <td>True</td>\n",
       "      <td>202279</td>\n",
       "      <td>9</td>\n",
       "      <td>5</td>\n",
       "      <td>4.0</td>\n",
       "      <td>0.555556</td>\n",
       "      <td>27.0</td>\n",
       "    </tr>\n",
       "    <tr>\n",
       "      <th>2</th>\n",
       "      <td>2</td>\n",
       "      <td>9327</td>\n",
       "      <td>False</td>\n",
       "      <td>202279</td>\n",
       "      <td>9</td>\n",
       "      <td>1</td>\n",
       "      <td>0.0</td>\n",
       "      <td>0.111111</td>\n",
       "      <td>27.0</td>\n",
       "    </tr>\n",
       "    <tr>\n",
       "      <th>3</th>\n",
       "      <td>2</td>\n",
       "      <td>45918</td>\n",
       "      <td>True</td>\n",
       "      <td>202279</td>\n",
       "      <td>9</td>\n",
       "      <td>5</td>\n",
       "      <td>4.0</td>\n",
       "      <td>0.555556</td>\n",
       "      <td>27.0</td>\n",
       "    </tr>\n",
       "    <tr>\n",
       "      <th>4</th>\n",
       "      <td>2</td>\n",
       "      <td>30035</td>\n",
       "      <td>False</td>\n",
       "      <td>202279</td>\n",
       "      <td>9</td>\n",
       "      <td>3</td>\n",
       "      <td>2.0</td>\n",
       "      <td>0.333333</td>\n",
       "      <td>27.0</td>\n",
       "    </tr>\n",
       "  </tbody>\n",
       "</table>\n",
       "</div>"
      ],
      "text/plain": [
       "   OrderID  ProductID  reordered  UserID  UserTotalOrder  \\\n",
       "0        2      33120       True  202279               9   \n",
       "1        2      28985       True  202279               9   \n",
       "2        2       9327      False  202279               9   \n",
       "3        2      45918       True  202279               9   \n",
       "4        2      30035      False  202279               9   \n",
       "\n",
       "   UserTotalProductOrder  UserProductTotalReordered  UserProductOrdersShare  \\\n",
       "0                      6                        5.0                0.666667   \n",
       "1                      5                        4.0                0.555556   \n",
       "2                      1                        0.0                0.111111   \n",
       "3                      5                        4.0                0.555556   \n",
       "4                      3                        2.0                0.333333   \n",
       "\n",
       "   UserMedianDaysSincePriorOrder  \n",
       "0                           27.0  \n",
       "1                           27.0  \n",
       "2                           27.0  \n",
       "3                           27.0  \n",
       "4                           27.0  "
      ]
     },
     "execution_count": 3,
     "metadata": {},
     "output_type": "execute_result"
    }
   ],
   "source": [
    "dataDump = joblib.load(\"ReorderProbability_DataFrame_duplicates_removed\")\n",
    "dataDump.head()"
   ]
  },
  {
   "cell_type": "code",
   "execution_count": 4,
   "metadata": {},
   "outputs": [
    {
     "data": {
      "text/html": [
       "<div>\n",
       "<style scoped>\n",
       "    .dataframe tbody tr th:only-of-type {\n",
       "        vertical-align: middle;\n",
       "    }\n",
       "\n",
       "    .dataframe tbody tr th {\n",
       "        vertical-align: top;\n",
       "    }\n",
       "\n",
       "    .dataframe thead th {\n",
       "        text-align: right;\n",
       "    }\n",
       "</style>\n",
       "<table border=\"1\" class=\"dataframe\">\n",
       "  <thead>\n",
       "    <tr style=\"text-align: right;\">\n",
       "      <th></th>\n",
       "      <th>OrderID</th>\n",
       "      <th>ProductID</th>\n",
       "      <th>UserID</th>\n",
       "      <th>UserTotalOrder</th>\n",
       "      <th>UserTotalProductOrder</th>\n",
       "      <th>UserProductTotalReordered</th>\n",
       "      <th>UserProductOrdersShare</th>\n",
       "      <th>UserMedianDaysSincePriorOrder</th>\n",
       "    </tr>\n",
       "  </thead>\n",
       "  <tbody>\n",
       "    <tr>\n",
       "      <th>count</th>\n",
       "      <td>1.386375e+07</td>\n",
       "      <td>1.386375e+07</td>\n",
       "      <td>1.386375e+07</td>\n",
       "      <td>1.386375e+07</td>\n",
       "      <td>1.386375e+07</td>\n",
       "      <td>1.386375e+07</td>\n",
       "      <td>1.386375e+07</td>\n",
       "      <td>1.386375e+07</td>\n",
       "    </tr>\n",
       "    <tr>\n",
       "      <th>mean</th>\n",
       "      <td>1.497096e+06</td>\n",
       "      <td>2.551068e+04</td>\n",
       "      <td>1.030158e+05</td>\n",
       "      <td>2.582566e+01</td>\n",
       "      <td>2.439392e+00</td>\n",
       "      <td>1.439392e+00</td>\n",
       "      <td>1.425333e-01</td>\n",
       "      <td>1.217367e+01</td>\n",
       "    </tr>\n",
       "    <tr>\n",
       "      <th>std</th>\n",
       "      <td>1.013340e+06</td>\n",
       "      <td>1.422548e+04</td>\n",
       "      <td>5.943946e+04</td>\n",
       "      <td>2.213607e+01</td>\n",
       "      <td>3.548338e+00</td>\n",
       "      <td>3.548338e+00</td>\n",
       "      <td>1.499583e-01</td>\n",
       "      <td>8.003374e+00</td>\n",
       "    </tr>\n",
       "    <tr>\n",
       "      <th>min</th>\n",
       "      <td>1.000000e+00</td>\n",
       "      <td>1.000000e+00</td>\n",
       "      <td>1.000000e+00</td>\n",
       "      <td>4.000000e+00</td>\n",
       "      <td>1.000000e+00</td>\n",
       "      <td>0.000000e+00</td>\n",
       "      <td>1.000000e-02</td>\n",
       "      <td>0.000000e+00</td>\n",
       "    </tr>\n",
       "    <tr>\n",
       "      <th>25%</th>\n",
       "      <td>5.814342e+05</td>\n",
       "      <td>1.329200e+04</td>\n",
       "      <td>5.160325e+04</td>\n",
       "      <td>9.000000e+00</td>\n",
       "      <td>1.000000e+00</td>\n",
       "      <td>0.000000e+00</td>\n",
       "      <td>4.444444e-02</td>\n",
       "      <td>6.500000e+00</td>\n",
       "    </tr>\n",
       "    <tr>\n",
       "      <th>50%</th>\n",
       "      <td>1.400979e+06</td>\n",
       "      <td>2.563800e+04</td>\n",
       "      <td>1.027330e+05</td>\n",
       "      <td>1.800000e+01</td>\n",
       "      <td>1.000000e+00</td>\n",
       "      <td>0.000000e+00</td>\n",
       "      <td>9.090909e-02</td>\n",
       "      <td>9.000000e+00</td>\n",
       "    </tr>\n",
       "    <tr>\n",
       "      <th>75%</th>\n",
       "      <td>2.356795e+06</td>\n",
       "      <td>3.815400e+04</td>\n",
       "      <td>1.544780e+05</td>\n",
       "      <td>3.500000e+01</td>\n",
       "      <td>2.000000e+00</td>\n",
       "      <td>1.000000e+00</td>\n",
       "      <td>1.875000e-01</td>\n",
       "      <td>1.600000e+01</td>\n",
       "    </tr>\n",
       "    <tr>\n",
       "      <th>max</th>\n",
       "      <td>3.421083e+06</td>\n",
       "      <td>4.968800e+04</td>\n",
       "      <td>2.062090e+05</td>\n",
       "      <td>1.000000e+02</td>\n",
       "      <td>1.000000e+02</td>\n",
       "      <td>9.900000e+01</td>\n",
       "      <td>1.000000e+00</td>\n",
       "      <td>3.000000e+01</td>\n",
       "    </tr>\n",
       "  </tbody>\n",
       "</table>\n",
       "</div>"
      ],
      "text/plain": [
       "            OrderID     ProductID        UserID  UserTotalOrder  \\\n",
       "count  1.386375e+07  1.386375e+07  1.386375e+07    1.386375e+07   \n",
       "mean   1.497096e+06  2.551068e+04  1.030158e+05    2.582566e+01   \n",
       "std    1.013340e+06  1.422548e+04  5.943946e+04    2.213607e+01   \n",
       "min    1.000000e+00  1.000000e+00  1.000000e+00    4.000000e+00   \n",
       "25%    5.814342e+05  1.329200e+04  5.160325e+04    9.000000e+00   \n",
       "50%    1.400979e+06  2.563800e+04  1.027330e+05    1.800000e+01   \n",
       "75%    2.356795e+06  3.815400e+04  1.544780e+05    3.500000e+01   \n",
       "max    3.421083e+06  4.968800e+04  2.062090e+05    1.000000e+02   \n",
       "\n",
       "       UserTotalProductOrder  UserProductTotalReordered  \\\n",
       "count           1.386375e+07               1.386375e+07   \n",
       "mean            2.439392e+00               1.439392e+00   \n",
       "std             3.548338e+00               3.548338e+00   \n",
       "min             1.000000e+00               0.000000e+00   \n",
       "25%             1.000000e+00               0.000000e+00   \n",
       "50%             1.000000e+00               0.000000e+00   \n",
       "75%             2.000000e+00               1.000000e+00   \n",
       "max             1.000000e+02               9.900000e+01   \n",
       "\n",
       "       UserProductOrdersShare  UserMedianDaysSincePriorOrder  \n",
       "count            1.386375e+07                   1.386375e+07  \n",
       "mean             1.425333e-01                   1.217367e+01  \n",
       "std              1.499583e-01                   8.003374e+00  \n",
       "min              1.000000e-02                   0.000000e+00  \n",
       "25%              4.444444e-02                   6.500000e+00  \n",
       "50%              9.090909e-02                   9.000000e+00  \n",
       "75%              1.875000e-01                   1.600000e+01  \n",
       "max              1.000000e+00                   3.000000e+01  "
      ]
     },
     "execution_count": 4,
     "metadata": {},
     "output_type": "execute_result"
    }
   ],
   "source": [
    "dataDump.describe()"
   ]
  },
  {
   "cell_type": "markdown",
   "metadata": {},
   "source": [
    "# Checking Outliers"
   ]
  },
  {
   "cell_type": "code",
   "execution_count": 5,
   "metadata": {},
   "outputs": [],
   "source": [
    "def remove_outlier(df_in, col_name):\n",
    "    q1 = df_in[col_name].quantile(0.25)\n",
    "    q3 = df_in[col_name].quantile(0.75)\n",
    "    iqr = q3 - q1\n",
    "    print(\"Q1:\",q1,\"Q3:\" ,q3,\"IQR\",iqr)\n",
    "    lowerBound = q1 - (iqr * 1.5)\n",
    "    higherBound = q3 + (iqr * 1.5)\n",
    "    print(\"Lower Bound:\",lowerBound, \"Higher Bound:\",higherBound)\n",
    "    outliers = df_in.loc[(df_in[col_name] < lowerBound) | (df_in[col_name] > higherBound)]\n",
    "    print(\"Amount of Outliers:\",len(outliers))\n",
    "    print(\"Percentage:\", len(outliers)/len(df_in))\n",
    "    percentage = len(outliers)/len(df_in)\n",
    "    if percentage < 0.05:\n",
    "        df_in = df_in.loc[(df_in[col_name] > lowerBound) & (df_in[col_name] < higherBound), :].copy()\n",
    "        print(\"Dropped\")\n",
    "        return df_in\n",
    "    else:\n",
    "        mean = df_in[col_name].mean()\n",
    "        df_in.loc[(df_in[col_name] < lowerBound) | (df_in[col_name] > higherBound), col_name] = mean\n",
    "        print(\"Imputed with mean:\", mean)\n",
    "        return df_in"
   ]
  },
  {
   "cell_type": "markdown",
   "metadata": {},
   "source": [
    "## UserTotalOrder"
   ]
  },
  {
   "cell_type": "code",
   "execution_count": 260,
   "metadata": {},
   "outputs": [
    {
     "data": {
      "text/plain": [
       "<matplotlib.axes._subplots.AxesSubplot at 0x1a4b5afcc0>"
      ]
     },
     "execution_count": 260,
     "metadata": {},
     "output_type": "execute_result"
    },
    {
     "data": {
      "image/png": "[encoded data removed]",
      "text/plain": [
       "<matplotlib.figure.Figure at 0x1a4b5a1d68>"
      ]
     },
     "metadata": {},
     "output_type": "display_data"
    }
   ],
   "source": [
    "dataDump.boxplot(column='UserTotalOrder')"
   ]
  },
  {
   "cell_type": "code",
   "execution_count": 261,
   "metadata": {},
   "outputs": [
    {
     "data": {
      "text/plain": [
       "<matplotlib.axes._subplots.AxesSubplot at 0x1a4b5ffa58>"
      ]
     },
     "execution_count": 261,
     "metadata": {},
     "output_type": "execute_result"
    },
    {
     "data": {
      "image/png": "[encoded data removed]",
      "text/plain": [
       "<matplotlib.figure.Figure at 0x1a4b605240>"
      ]
     },
     "metadata": {},
     "output_type": "display_data"
    }
   ],
   "source": [
    "dataDump.boxplot(column='UserTotalProductOrder')"
   ]
  },
  {
   "cell_type": "code",
   "execution_count": 262,
   "metadata": {},
   "outputs": [
    {
     "data": {
      "text/plain": [
       "<matplotlib.axes._subplots.AxesSubplot at 0x1a4b5ffba8>"
      ]
     },
     "execution_count": 262,
     "metadata": {},
     "output_type": "execute_result"
    },
    {
     "data": {
      "image/png": "[encoded data removed]",
      "text/plain": [
       "<matplotlib.figure.Figure at 0x1a355557f0>"
      ]
     },
     "metadata": {},
     "output_type": "display_data"
    }
   ],
   "source": [
    "dataDump.boxplot(column='UserProductOrdersShare')"
   ]
  },
  {
   "cell_type": "code",
   "execution_count": 263,
   "metadata": {},
   "outputs": [
    {
     "data": {
      "text/plain": [
       "<matplotlib.axes._subplots.AxesSubplot at 0x1a4b4ced68>"
      ]
     },
     "execution_count": 263,
     "metadata": {},
     "output_type": "execute_result"
    },
    {
     "data": {
      "image/png": "[encoded data removed]",
      "text/plain": [
       "<matplotlib.figure.Figure at 0x1a35592a58>"
      ]
     },
     "metadata": {},
     "output_type": "display_data"
    }
   ],
   "source": [
    "dataDump.boxplot(column='UserMedianDaysSincePriorOrder')"
   ]
  },
  {
   "cell_type": "code",
   "execution_count": 264,
   "metadata": {},
   "outputs": [
    {
     "data": {
      "text/plain": [
       "<matplotlib.axes._subplots.AxesSubplot at 0x1a4b4a91d0>"
      ]
     },
     "execution_count": 264,
     "metadata": {},
     "output_type": "execute_result"
    },
    {
     "data": {
      "image/png": "[encoded data removed]",
      "text/plain": [
       "<matplotlib.figure.Figure at 0x1a4b3d36d8>"
      ]
     },
     "metadata": {},
     "output_type": "display_data"
    }
   ],
   "source": [
    "dataDump.boxplot(column='UserProductTotalReordered')"
   ]
  },
  {
   "cell_type": "code",
   "execution_count": 6,
   "metadata": {},
   "outputs": [
    {
     "name": "stdout",
     "output_type": "stream",
     "text": [
      "Q1: 9.0 Q3: 35.0 IQR 26.0\n",
      "Lower Bound: -30.0 Higher Bound: 74.0\n",
      "Amount of Outliers: 685859\n",
      "Percentage: 0.04947140549170477\n",
      "Dropped\n"
     ]
    }
   ],
   "source": [
    "dataDump = remove_outlier(dataDump, \"UserTotalOrder\")"
   ]
  },
  {
   "cell_type": "code",
   "execution_count": 7,
   "metadata": {},
   "outputs": [],
   "source": [
    "#dataDump = remove_outlier(dataDump, \"UserMedianDaysSincePriorOrder\")"
   ]
  },
  {
   "cell_type": "code",
   "execution_count": 8,
   "metadata": {},
   "outputs": [
    {
     "name": "stdout",
     "output_type": "stream",
     "text": [
      "Q1: 0.047619047619047616 Q3: 0.2 IQR 0.1523809523809524\n",
      "Lower Bound: -0.18095238095238098 Higher Bound: 0.4285714285714286\n",
      "Amount of Outliers: 770922\n",
      "Percentage: 0.05863222951113418\n",
      "Imputed with mean: 0.14765878928375165\n"
     ]
    }
   ],
   "source": [
    "dataDump = remove_outlier(dataDump, \"UserProductOrdersShare\")"
   ]
  },
  {
   "cell_type": "code",
   "execution_count": 9,
   "metadata": {},
   "outputs": [
    {
     "name": "stdout",
     "output_type": "stream",
     "text": [
      "Q1: 7.0 Q3: 17.0 IQR 10.0\n",
      "Lower Bound: -8.0 Higher Bound: 32.0\n",
      "Amount of Outliers: 0\n",
      "Percentage: 0.0\n",
      "Dropped\n"
     ]
    }
   ],
   "source": [
    "dataDump = remove_outlier(dataDump, \"UserMedianDaysSincePriorOrder\")"
   ]
  },
  {
   "cell_type": "code",
   "execution_count": 10,
   "metadata": {},
   "outputs": [],
   "source": [
    "#dataDump = remove_outlier(dataDump, \"UserProductTotalReordered\")"
   ]
  },
  {
   "cell_type": "code",
   "execution_count": 11,
   "metadata": {},
   "outputs": [],
   "source": [
    "dataDump.reset_index(drop= True, inplace = True)"
   ]
  },
  {
   "cell_type": "code",
   "execution_count": 271,
   "metadata": {},
   "outputs": [
    {
     "data": {
      "text/plain": [
       "array([[<matplotlib.axes._subplots.AxesSubplot object at 0x1a4a2c9470>]],\n",
       "      dtype=object)"
      ]
     },
     "execution_count": 271,
     "metadata": {},
     "output_type": "execute_result"
    },
    {
     "data": {
      "image/png": "[encoded data removed]",
      "text/plain": [
       "<matplotlib.figure.Figure at 0x1a4b1ef7b8>"
      ]
     },
     "metadata": {},
     "output_type": "display_data"
    }
   ],
   "source": [
    "dataDump.hist(column= \"UserTotalOrder\")"
   ]
  },
  {
   "cell_type": "code",
   "execution_count": 12,
   "metadata": {},
   "outputs": [],
   "source": [
    "def makeBins(df, bins, binLabels, column_name):\n",
    "    df[column_name + \"_bin\"] = pd.cut(df[column_name], bins,labels = binLabels, include_lowest = True)\n",
    "def getBins(df, column_name):\n",
    "    df.hist(column= column_name)\n",
    "    count, division = np.histogram(df[column_name])\n",
    "    print(\"Count in Bins:\", count, \"\\nBins:\", division, \"\\nAmount of Bins:\", len(division))"
   ]
  },
  {
   "cell_type": "code",
   "execution_count": 13,
   "metadata": {},
   "outputs": [
    {
     "data": {
      "text/html": [
       "<div>\n",
       "<style scoped>\n",
       "    .dataframe tbody tr th:only-of-type {\n",
       "        vertical-align: middle;\n",
       "    }\n",
       "\n",
       "    .dataframe tbody tr th {\n",
       "        vertical-align: top;\n",
       "    }\n",
       "\n",
       "    .dataframe thead th {\n",
       "        text-align: right;\n",
       "    }\n",
       "</style>\n",
       "<table border=\"1\" class=\"dataframe\">\n",
       "  <thead>\n",
       "    <tr style=\"text-align: right;\">\n",
       "      <th></th>\n",
       "      <th>OrderID</th>\n",
       "      <th>ProductID</th>\n",
       "      <th>reordered</th>\n",
       "      <th>UserID</th>\n",
       "      <th>UserTotalOrder</th>\n",
       "      <th>UserTotalProductOrder</th>\n",
       "      <th>UserProductTotalReordered</th>\n",
       "      <th>UserProductOrdersShare</th>\n",
       "      <th>UserMedianDaysSincePriorOrder</th>\n",
       "      <th>UserTotalOrder_bin</th>\n",
       "    </tr>\n",
       "  </thead>\n",
       "  <tbody>\n",
       "    <tr>\n",
       "      <th>0</th>\n",
       "      <td>2</td>\n",
       "      <td>33120</td>\n",
       "      <td>True</td>\n",
       "      <td>202279</td>\n",
       "      <td>9</td>\n",
       "      <td>6</td>\n",
       "      <td>5.0</td>\n",
       "      <td>0.147659</td>\n",
       "      <td>27.0</td>\n",
       "      <td>0-10</td>\n",
       "    </tr>\n",
       "    <tr>\n",
       "      <th>1</th>\n",
       "      <td>2</td>\n",
       "      <td>28985</td>\n",
       "      <td>True</td>\n",
       "      <td>202279</td>\n",
       "      <td>9</td>\n",
       "      <td>5</td>\n",
       "      <td>4.0</td>\n",
       "      <td>0.147659</td>\n",
       "      <td>27.0</td>\n",
       "      <td>0-10</td>\n",
       "    </tr>\n",
       "    <tr>\n",
       "      <th>2</th>\n",
       "      <td>2</td>\n",
       "      <td>9327</td>\n",
       "      <td>False</td>\n",
       "      <td>202279</td>\n",
       "      <td>9</td>\n",
       "      <td>1</td>\n",
       "      <td>0.0</td>\n",
       "      <td>0.111111</td>\n",
       "      <td>27.0</td>\n",
       "      <td>0-10</td>\n",
       "    </tr>\n",
       "    <tr>\n",
       "      <th>3</th>\n",
       "      <td>2</td>\n",
       "      <td>45918</td>\n",
       "      <td>True</td>\n",
       "      <td>202279</td>\n",
       "      <td>9</td>\n",
       "      <td>5</td>\n",
       "      <td>4.0</td>\n",
       "      <td>0.147659</td>\n",
       "      <td>27.0</td>\n",
       "      <td>0-10</td>\n",
       "    </tr>\n",
       "    <tr>\n",
       "      <th>4</th>\n",
       "      <td>2</td>\n",
       "      <td>30035</td>\n",
       "      <td>False</td>\n",
       "      <td>202279</td>\n",
       "      <td>9</td>\n",
       "      <td>3</td>\n",
       "      <td>2.0</td>\n",
       "      <td>0.333333</td>\n",
       "      <td>27.0</td>\n",
       "      <td>0-10</td>\n",
       "    </tr>\n",
       "  </tbody>\n",
       "</table>\n",
       "</div>"
      ],
      "text/plain": [
       "   OrderID  ProductID  reordered  UserID  UserTotalOrder  \\\n",
       "0        2      33120       True  202279               9   \n",
       "1        2      28985       True  202279               9   \n",
       "2        2       9327      False  202279               9   \n",
       "3        2      45918       True  202279               9   \n",
       "4        2      30035      False  202279               9   \n",
       "\n",
       "   UserTotalProductOrder  UserProductTotalReordered  UserProductOrdersShare  \\\n",
       "0                      6                        5.0                0.147659   \n",
       "1                      5                        4.0                0.147659   \n",
       "2                      1                        0.0                0.111111   \n",
       "3                      5                        4.0                0.147659   \n",
       "4                      3                        2.0                0.333333   \n",
       "\n",
       "   UserMedianDaysSincePriorOrder UserTotalOrder_bin  \n",
       "0                           27.0               0-10  \n",
       "1                           27.0               0-10  \n",
       "2                           27.0               0-10  \n",
       "3                           27.0               0-10  \n",
       "4                           27.0               0-10  "
      ]
     },
     "execution_count": 13,
     "metadata": {},
     "output_type": "execute_result"
    }
   ],
   "source": [
    "UserTotalOrderBinLabels = [\"0-10\", \"11-20\",\"21-30\",\"31-40\", \"41-50\", \"51-60\", \"61-70\", \"71-80\"]\n",
    "UserTotalOrderBins = [0,10,20,30,40,50,60,70,80]\n",
    "makeBins(dataDump,UserTotalOrderBins,UserTotalOrderBinLabels, \"UserTotalOrder\")\n",
    "dataDump.head()"
   ]
  },
  {
   "cell_type": "code",
   "execution_count": 274,
   "metadata": {},
   "outputs": [
    {
     "name": "stdout",
     "output_type": "stream",
     "text": [
      "Count in Bins: [12500202   467443   113912    39791    15983     6956     2931      967\n",
      "      199       50] \n",
      "Bins: [ 1.   7.9 14.8 21.7 28.6 35.5 42.4 49.3 56.2 63.1 70. ] \n",
      "Amount of Bins: 11\n"
     ]
    },
    {
     "data": {
      "image/png": "[encoded data removed]",
      "text/plain": [
       "<matplotlib.figure.Figure at 0x1a4b204400>"
      ]
     },
     "metadata": {},
     "output_type": "display_data"
    }
   ],
   "source": [
    "getBins(dataDump, \"UserTotalProductOrder\")"
   ]
  },
  {
   "cell_type": "code",
   "execution_count": 14,
   "metadata": {},
   "outputs": [
    {
     "data": {
      "text/html": [
       "<div>\n",
       "<style scoped>\n",
       "    .dataframe tbody tr th:only-of-type {\n",
       "        vertical-align: middle;\n",
       "    }\n",
       "\n",
       "    .dataframe tbody tr th {\n",
       "        vertical-align: top;\n",
       "    }\n",
       "\n",
       "    .dataframe thead th {\n",
       "        text-align: right;\n",
       "    }\n",
       "</style>\n",
       "<table border=\"1\" class=\"dataframe\">\n",
       "  <thead>\n",
       "    <tr style=\"text-align: right;\">\n",
       "      <th></th>\n",
       "      <th>OrderID</th>\n",
       "      <th>ProductID</th>\n",
       "      <th>reordered</th>\n",
       "      <th>UserID</th>\n",
       "      <th>UserTotalOrder</th>\n",
       "      <th>UserTotalProductOrder</th>\n",
       "      <th>UserProductTotalReordered</th>\n",
       "      <th>UserProductOrdersShare</th>\n",
       "      <th>UserMedianDaysSincePriorOrder</th>\n",
       "      <th>UserTotalOrder_bin</th>\n",
       "      <th>UserTotalProductOrder_bin</th>\n",
       "    </tr>\n",
       "  </thead>\n",
       "  <tbody>\n",
       "    <tr>\n",
       "      <th>0</th>\n",
       "      <td>2</td>\n",
       "      <td>33120</td>\n",
       "      <td>True</td>\n",
       "      <td>202279</td>\n",
       "      <td>9</td>\n",
       "      <td>6</td>\n",
       "      <td>5.0</td>\n",
       "      <td>0.147659</td>\n",
       "      <td>27.0</td>\n",
       "      <td>0-10</td>\n",
       "      <td>0-7</td>\n",
       "    </tr>\n",
       "    <tr>\n",
       "      <th>1</th>\n",
       "      <td>2</td>\n",
       "      <td>28985</td>\n",
       "      <td>True</td>\n",
       "      <td>202279</td>\n",
       "      <td>9</td>\n",
       "      <td>5</td>\n",
       "      <td>4.0</td>\n",
       "      <td>0.147659</td>\n",
       "      <td>27.0</td>\n",
       "      <td>0-10</td>\n",
       "      <td>0-7</td>\n",
       "    </tr>\n",
       "    <tr>\n",
       "      <th>2</th>\n",
       "      <td>2</td>\n",
       "      <td>9327</td>\n",
       "      <td>False</td>\n",
       "      <td>202279</td>\n",
       "      <td>9</td>\n",
       "      <td>1</td>\n",
       "      <td>0.0</td>\n",
       "      <td>0.111111</td>\n",
       "      <td>27.0</td>\n",
       "      <td>0-10</td>\n",
       "      <td>0-7</td>\n",
       "    </tr>\n",
       "    <tr>\n",
       "      <th>3</th>\n",
       "      <td>2</td>\n",
       "      <td>45918</td>\n",
       "      <td>True</td>\n",
       "      <td>202279</td>\n",
       "      <td>9</td>\n",
       "      <td>5</td>\n",
       "      <td>4.0</td>\n",
       "      <td>0.147659</td>\n",
       "      <td>27.0</td>\n",
       "      <td>0-10</td>\n",
       "      <td>0-7</td>\n",
       "    </tr>\n",
       "    <tr>\n",
       "      <th>4</th>\n",
       "      <td>2</td>\n",
       "      <td>30035</td>\n",
       "      <td>False</td>\n",
       "      <td>202279</td>\n",
       "      <td>9</td>\n",
       "      <td>3</td>\n",
       "      <td>2.0</td>\n",
       "      <td>0.333333</td>\n",
       "      <td>27.0</td>\n",
       "      <td>0-10</td>\n",
       "      <td>0-7</td>\n",
       "    </tr>\n",
       "  </tbody>\n",
       "</table>\n",
       "</div>"
      ],
      "text/plain": [
       "   OrderID  ProductID  reordered  UserID  UserTotalOrder  \\\n",
       "0        2      33120       True  202279               9   \n",
       "1        2      28985       True  202279               9   \n",
       "2        2       9327      False  202279               9   \n",
       "3        2      45918       True  202279               9   \n",
       "4        2      30035      False  202279               9   \n",
       "\n",
       "   UserTotalProductOrder  UserProductTotalReordered  UserProductOrdersShare  \\\n",
       "0                      6                        5.0                0.147659   \n",
       "1                      5                        4.0                0.147659   \n",
       "2                      1                        0.0                0.111111   \n",
       "3                      5                        4.0                0.147659   \n",
       "4                      3                        2.0                0.333333   \n",
       "\n",
       "   UserMedianDaysSincePriorOrder UserTotalOrder_bin UserTotalProductOrder_bin  \n",
       "0                           27.0               0-10                       0-7  \n",
       "1                           27.0               0-10                       0-7  \n",
       "2                           27.0               0-10                       0-7  \n",
       "3                           27.0               0-10                       0-7  \n",
       "4                           27.0               0-10                       0-7  "
      ]
     },
     "execution_count": 14,
     "metadata": {},
     "output_type": "execute_result"
    }
   ],
   "source": [
    "UserTotalProductOrderBinLabels = [\"0-7\", \"8-14\",\"15-21\",\"22-28\", \"29-35\", \"36-42\", \"43-49\", \"50-56\", \"57-63\", \"64-70\"]\n",
    "UserTotalProductOrderBins = [0,7,14,21,28,35,42,49,56,63,70]\n",
    "makeBins(dataDump,UserTotalProductOrderBins,UserTotalProductOrderBinLabels, \"UserTotalProductOrder\")\n",
    "dataDump.head()"
   ]
  },
  {
   "cell_type": "code",
   "execution_count": 276,
   "metadata": {},
   "outputs": [
    {
     "name": "stdout",
     "output_type": "stream",
     "text": [
      "Count in Bins: [3768001 2730884 1742019 2139496  892085  900246  312225  270978  149727\n",
      "  242773] \n",
      "Bins: [0.01369863 0.05518591 0.09667319 0.13816047 0.17964775 0.22113503\n",
      " 0.26262231 0.30410959 0.34559687 0.38708415 0.42857143] \n",
      "Amount of Bins: 11\n"
     ]
    },
    {
     "data": {
      "image/png": "[encoded data removed]",
      "text/plain": [
       "<matplotlib.figure.Figure at 0x1a3d8824a8>"
      ]
     },
     "metadata": {},
     "output_type": "display_data"
    }
   ],
   "source": [
    "getBins(dataDump, \"UserProductOrdersShare\")"
   ]
  },
  {
   "cell_type": "code",
   "execution_count": 15,
   "metadata": {},
   "outputs": [
    {
     "data": {
      "text/html": [
       "<div>\n",
       "<style scoped>\n",
       "    .dataframe tbody tr th:only-of-type {\n",
       "        vertical-align: middle;\n",
       "    }\n",
       "\n",
       "    .dataframe tbody tr th {\n",
       "        vertical-align: top;\n",
       "    }\n",
       "\n",
       "    .dataframe thead th {\n",
       "        text-align: right;\n",
       "    }\n",
       "</style>\n",
       "<table border=\"1\" class=\"dataframe\">\n",
       "  <thead>\n",
       "    <tr style=\"text-align: right;\">\n",
       "      <th></th>\n",
       "      <th>OrderID</th>\n",
       "      <th>ProductID</th>\n",
       "      <th>reordered</th>\n",
       "      <th>UserID</th>\n",
       "      <th>UserTotalOrder</th>\n",
       "      <th>UserTotalProductOrder</th>\n",
       "      <th>UserProductTotalReordered</th>\n",
       "      <th>UserProductOrdersShare</th>\n",
       "      <th>UserMedianDaysSincePriorOrder</th>\n",
       "      <th>UserTotalOrder_bin</th>\n",
       "      <th>UserTotalProductOrder_bin</th>\n",
       "      <th>UserProductOrdersShare_bin</th>\n",
       "    </tr>\n",
       "  </thead>\n",
       "  <tbody>\n",
       "    <tr>\n",
       "      <th>0</th>\n",
       "      <td>2</td>\n",
       "      <td>33120</td>\n",
       "      <td>True</td>\n",
       "      <td>202279</td>\n",
       "      <td>9</td>\n",
       "      <td>6</td>\n",
       "      <td>5.0</td>\n",
       "      <td>0.147659</td>\n",
       "      <td>27.0</td>\n",
       "      <td>0-10</td>\n",
       "      <td>0-7</td>\n",
       "      <td>11-15%</td>\n",
       "    </tr>\n",
       "    <tr>\n",
       "      <th>1</th>\n",
       "      <td>2</td>\n",
       "      <td>28985</td>\n",
       "      <td>True</td>\n",
       "      <td>202279</td>\n",
       "      <td>9</td>\n",
       "      <td>5</td>\n",
       "      <td>4.0</td>\n",
       "      <td>0.147659</td>\n",
       "      <td>27.0</td>\n",
       "      <td>0-10</td>\n",
       "      <td>0-7</td>\n",
       "      <td>11-15%</td>\n",
       "    </tr>\n",
       "    <tr>\n",
       "      <th>2</th>\n",
       "      <td>2</td>\n",
       "      <td>9327</td>\n",
       "      <td>False</td>\n",
       "      <td>202279</td>\n",
       "      <td>9</td>\n",
       "      <td>1</td>\n",
       "      <td>0.0</td>\n",
       "      <td>0.111111</td>\n",
       "      <td>27.0</td>\n",
       "      <td>0-10</td>\n",
       "      <td>0-7</td>\n",
       "      <td>11-15%</td>\n",
       "    </tr>\n",
       "    <tr>\n",
       "      <th>3</th>\n",
       "      <td>2</td>\n",
       "      <td>45918</td>\n",
       "      <td>True</td>\n",
       "      <td>202279</td>\n",
       "      <td>9</td>\n",
       "      <td>5</td>\n",
       "      <td>4.0</td>\n",
       "      <td>0.147659</td>\n",
       "      <td>27.0</td>\n",
       "      <td>0-10</td>\n",
       "      <td>0-7</td>\n",
       "      <td>11-15%</td>\n",
       "    </tr>\n",
       "    <tr>\n",
       "      <th>4</th>\n",
       "      <td>2</td>\n",
       "      <td>30035</td>\n",
       "      <td>False</td>\n",
       "      <td>202279</td>\n",
       "      <td>9</td>\n",
       "      <td>3</td>\n",
       "      <td>2.0</td>\n",
       "      <td>0.333333</td>\n",
       "      <td>27.0</td>\n",
       "      <td>0-10</td>\n",
       "      <td>0-7</td>\n",
       "      <td>31-35%</td>\n",
       "    </tr>\n",
       "  </tbody>\n",
       "</table>\n",
       "</div>"
      ],
      "text/plain": [
       "   OrderID  ProductID  reordered  UserID  UserTotalOrder  \\\n",
       "0        2      33120       True  202279               9   \n",
       "1        2      28985       True  202279               9   \n",
       "2        2       9327      False  202279               9   \n",
       "3        2      45918       True  202279               9   \n",
       "4        2      30035      False  202279               9   \n",
       "\n",
       "   UserTotalProductOrder  UserProductTotalReordered  UserProductOrdersShare  \\\n",
       "0                      6                        5.0                0.147659   \n",
       "1                      5                        4.0                0.147659   \n",
       "2                      1                        0.0                0.111111   \n",
       "3                      5                        4.0                0.147659   \n",
       "4                      3                        2.0                0.333333   \n",
       "\n",
       "   UserMedianDaysSincePriorOrder UserTotalOrder_bin UserTotalProductOrder_bin  \\\n",
       "0                           27.0               0-10                       0-7   \n",
       "1                           27.0               0-10                       0-7   \n",
       "2                           27.0               0-10                       0-7   \n",
       "3                           27.0               0-10                       0-7   \n",
       "4                           27.0               0-10                       0-7   \n",
       "\n",
       "  UserProductOrdersShare_bin  \n",
       "0                     11-15%  \n",
       "1                     11-15%  \n",
       "2                     11-15%  \n",
       "3                     11-15%  \n",
       "4                     31-35%  "
      ]
     },
     "execution_count": 15,
     "metadata": {},
     "output_type": "execute_result"
    }
   ],
   "source": [
    "UserProductOrdersShareBinLabels = [\"0-5%\", \"6-10%\",\"11-15%\",\"16-20%\", \"21-25%\", \"26-30%\", \"31-35%\", \"36-40%\", \"41-45%\"]\n",
    "UserProductOrdersShareBins = [0.0,0.05,0.10,0.15,0.20,0.25,0.30,0.35,0.40,0.45]\n",
    "makeBins(dataDump,UserProductOrdersShareBins,UserProductOrdersShareBinLabels, \"UserProductOrdersShare\")\n",
    "dataDump.head()"
   ]
  },
  {
   "cell_type": "code",
   "execution_count": 278,
   "metadata": {},
   "outputs": [
    {
     "name": "stdout",
     "output_type": "stream",
     "text": [
      "Count in Bins: [  99744 1697976 4014979 1799173 1552446  921862  663169  577437  407629\n",
      " 1414019] \n",
      "Bins: [ 0.  3.  6.  9. 12. 15. 18. 21. 24. 27. 30.] \n",
      "Amount of Bins: 11\n"
     ]
    },
    {
     "data": {
      "image/png": "[encoded data removed]",
      "text/plain": [
       "<matplotlib.figure.Figure at 0x1a23d50b70>"
      ]
     },
     "metadata": {},
     "output_type": "display_data"
    }
   ],
   "source": [
    "getBins(dataDump, \"UserMedianDaysSincePriorOrder\")"
   ]
  },
  {
   "cell_type": "code",
   "execution_count": 16,
   "metadata": {},
   "outputs": [
    {
     "data": {
      "text/html": [
       "<div>\n",
       "<style scoped>\n",
       "    .dataframe tbody tr th:only-of-type {\n",
       "        vertical-align: middle;\n",
       "    }\n",
       "\n",
       "    .dataframe tbody tr th {\n",
       "        vertical-align: top;\n",
       "    }\n",
       "\n",
       "    .dataframe thead th {\n",
       "        text-align: right;\n",
       "    }\n",
       "</style>\n",
       "<table border=\"1\" class=\"dataframe\">\n",
       "  <thead>\n",
       "    <tr style=\"text-align: right;\">\n",
       "      <th></th>\n",
       "      <th>OrderID</th>\n",
       "      <th>ProductID</th>\n",
       "      <th>reordered</th>\n",
       "      <th>UserID</th>\n",
       "      <th>UserTotalOrder</th>\n",
       "      <th>UserTotalProductOrder</th>\n",
       "      <th>UserProductTotalReordered</th>\n",
       "      <th>UserProductOrdersShare</th>\n",
       "      <th>UserMedianDaysSincePriorOrder</th>\n",
       "      <th>UserTotalOrder_bin</th>\n",
       "      <th>UserTotalProductOrder_bin</th>\n",
       "      <th>UserProductOrdersShare_bin</th>\n",
       "      <th>UserMedianDaysSincePriorOrder_bin</th>\n",
       "    </tr>\n",
       "  </thead>\n",
       "  <tbody>\n",
       "    <tr>\n",
       "      <th>0</th>\n",
       "      <td>2</td>\n",
       "      <td>33120</td>\n",
       "      <td>True</td>\n",
       "      <td>202279</td>\n",
       "      <td>9</td>\n",
       "      <td>6</td>\n",
       "      <td>5.0</td>\n",
       "      <td>0.147659</td>\n",
       "      <td>27.0</td>\n",
       "      <td>0-10</td>\n",
       "      <td>0-7</td>\n",
       "      <td>11-15%</td>\n",
       "      <td>25-27</td>\n",
       "    </tr>\n",
       "    <tr>\n",
       "      <th>1</th>\n",
       "      <td>2</td>\n",
       "      <td>28985</td>\n",
       "      <td>True</td>\n",
       "      <td>202279</td>\n",
       "      <td>9</td>\n",
       "      <td>5</td>\n",
       "      <td>4.0</td>\n",
       "      <td>0.147659</td>\n",
       "      <td>27.0</td>\n",
       "      <td>0-10</td>\n",
       "      <td>0-7</td>\n",
       "      <td>11-15%</td>\n",
       "      <td>25-27</td>\n",
       "    </tr>\n",
       "    <tr>\n",
       "      <th>2</th>\n",
       "      <td>2</td>\n",
       "      <td>9327</td>\n",
       "      <td>False</td>\n",
       "      <td>202279</td>\n",
       "      <td>9</td>\n",
       "      <td>1</td>\n",
       "      <td>0.0</td>\n",
       "      <td>0.111111</td>\n",
       "      <td>27.0</td>\n",
       "      <td>0-10</td>\n",
       "      <td>0-7</td>\n",
       "      <td>11-15%</td>\n",
       "      <td>25-27</td>\n",
       "    </tr>\n",
       "    <tr>\n",
       "      <th>3</th>\n",
       "      <td>2</td>\n",
       "      <td>45918</td>\n",
       "      <td>True</td>\n",
       "      <td>202279</td>\n",
       "      <td>9</td>\n",
       "      <td>5</td>\n",
       "      <td>4.0</td>\n",
       "      <td>0.147659</td>\n",
       "      <td>27.0</td>\n",
       "      <td>0-10</td>\n",
       "      <td>0-7</td>\n",
       "      <td>11-15%</td>\n",
       "      <td>25-27</td>\n",
       "    </tr>\n",
       "    <tr>\n",
       "      <th>4</th>\n",
       "      <td>2</td>\n",
       "      <td>30035</td>\n",
       "      <td>False</td>\n",
       "      <td>202279</td>\n",
       "      <td>9</td>\n",
       "      <td>3</td>\n",
       "      <td>2.0</td>\n",
       "      <td>0.333333</td>\n",
       "      <td>27.0</td>\n",
       "      <td>0-10</td>\n",
       "      <td>0-7</td>\n",
       "      <td>31-35%</td>\n",
       "      <td>25-27</td>\n",
       "    </tr>\n",
       "  </tbody>\n",
       "</table>\n",
       "</div>"
      ],
      "text/plain": [
       "   OrderID  ProductID  reordered  UserID  UserTotalOrder  \\\n",
       "0        2      33120       True  202279               9   \n",
       "1        2      28985       True  202279               9   \n",
       "2        2       9327      False  202279               9   \n",
       "3        2      45918       True  202279               9   \n",
       "4        2      30035      False  202279               9   \n",
       "\n",
       "   UserTotalProductOrder  UserProductTotalReordered  UserProductOrdersShare  \\\n",
       "0                      6                        5.0                0.147659   \n",
       "1                      5                        4.0                0.147659   \n",
       "2                      1                        0.0                0.111111   \n",
       "3                      5                        4.0                0.147659   \n",
       "4                      3                        2.0                0.333333   \n",
       "\n",
       "   UserMedianDaysSincePriorOrder UserTotalOrder_bin UserTotalProductOrder_bin  \\\n",
       "0                           27.0               0-10                       0-7   \n",
       "1                           27.0               0-10                       0-7   \n",
       "2                           27.0               0-10                       0-7   \n",
       "3                           27.0               0-10                       0-7   \n",
       "4                           27.0               0-10                       0-7   \n",
       "\n",
       "  UserProductOrdersShare_bin UserMedianDaysSincePriorOrder_bin  \n",
       "0                     11-15%                             25-27  \n",
       "1                     11-15%                             25-27  \n",
       "2                     11-15%                             25-27  \n",
       "3                     11-15%                             25-27  \n",
       "4                     31-35%                             25-27  "
      ]
     },
     "execution_count": 16,
     "metadata": {},
     "output_type": "execute_result"
    }
   ],
   "source": [
    "UserMedianDaysSincePriorOrderBinLabels = [ \"0-3\",\"4-6\",\"7-9\",\"10-12\",\"13-15\",\"16-18\",\"19-21\",\"22-24\",\"25-27\",\"28-30\"] \n",
    "UserMedianDaysSincePriorOrderBins = [ 0,3,6,9,12,15,18,21,24,27,30] \n",
    "makeBins(dataDump,UserMedianDaysSincePriorOrderBins,UserMedianDaysSincePriorOrderBinLabels, \"UserMedianDaysSincePriorOrder\")\n",
    "dataDump.head()"
   ]
  },
  {
   "cell_type": "code",
   "execution_count": 17,
   "metadata": {},
   "outputs": [
    {
     "name": "stdout",
     "output_type": "stream",
     "text": [
      "Count in Bins: [12500202   467443   113912    39791    15983     6956     2931      967\n",
      "      199       50] \n",
      "Bins: [ 0.   6.9 13.8 20.7 27.6 34.5 41.4 48.3 55.2 62.1 69. ] \n",
      "Amount of Bins: 11\n"
     ]
    },
    {
     "data": {
      "image/png": "[encoded data removed]",
      "text/plain": [
       "<Figure size 432x288 with 1 Axes>"
      ]
     },
     "metadata": {
      "needs_background": "light"
     },
     "output_type": "display_data"
    }
   ],
   "source": [
    "dataDump.fillna(value= {\"UserProductTotalReordered\" : 0}, inplace = True)\n",
    "getBins(dataDump, \"UserProductTotalReordered\")"
   ]
  },
  {
   "cell_type": "code",
   "execution_count": 18,
   "metadata": {},
   "outputs": [
    {
     "data": {
      "text/html": [
       "<div>\n",
       "<style scoped>\n",
       "    .dataframe tbody tr th:only-of-type {\n",
       "        vertical-align: middle;\n",
       "    }\n",
       "\n",
       "    .dataframe tbody tr th {\n",
       "        vertical-align: top;\n",
       "    }\n",
       "\n",
       "    .dataframe thead th {\n",
       "        text-align: right;\n",
       "    }\n",
       "</style>\n",
       "<table border=\"1\" class=\"dataframe\">\n",
       "  <thead>\n",
       "    <tr style=\"text-align: right;\">\n",
       "      <th></th>\n",
       "      <th>OrderID</th>\n",
       "      <th>ProductID</th>\n",
       "      <th>reordered</th>\n",
       "      <th>UserID</th>\n",
       "      <th>UserTotalOrder</th>\n",
       "      <th>UserTotalProductOrder</th>\n",
       "      <th>UserProductTotalReordered</th>\n",
       "      <th>UserProductOrdersShare</th>\n",
       "      <th>UserMedianDaysSincePriorOrder</th>\n",
       "      <th>UserTotalOrder_bin</th>\n",
       "      <th>UserTotalProductOrder_bin</th>\n",
       "      <th>UserProductOrdersShare_bin</th>\n",
       "      <th>UserMedianDaysSincePriorOrder_bin</th>\n",
       "      <th>UserProductTotalReordered_bin</th>\n",
       "    </tr>\n",
       "  </thead>\n",
       "  <tbody>\n",
       "    <tr>\n",
       "      <th>0</th>\n",
       "      <td>2</td>\n",
       "      <td>33120</td>\n",
       "      <td>True</td>\n",
       "      <td>202279</td>\n",
       "      <td>9</td>\n",
       "      <td>6</td>\n",
       "      <td>5.0</td>\n",
       "      <td>0.147659</td>\n",
       "      <td>27.0</td>\n",
       "      <td>0-10</td>\n",
       "      <td>0-7</td>\n",
       "      <td>11-15%</td>\n",
       "      <td>25-27</td>\n",
       "      <td>0-7</td>\n",
       "    </tr>\n",
       "    <tr>\n",
       "      <th>1</th>\n",
       "      <td>2</td>\n",
       "      <td>28985</td>\n",
       "      <td>True</td>\n",
       "      <td>202279</td>\n",
       "      <td>9</td>\n",
       "      <td>5</td>\n",
       "      <td>4.0</td>\n",
       "      <td>0.147659</td>\n",
       "      <td>27.0</td>\n",
       "      <td>0-10</td>\n",
       "      <td>0-7</td>\n",
       "      <td>11-15%</td>\n",
       "      <td>25-27</td>\n",
       "      <td>0-7</td>\n",
       "    </tr>\n",
       "    <tr>\n",
       "      <th>2</th>\n",
       "      <td>2</td>\n",
       "      <td>9327</td>\n",
       "      <td>False</td>\n",
       "      <td>202279</td>\n",
       "      <td>9</td>\n",
       "      <td>1</td>\n",
       "      <td>0.0</td>\n",
       "      <td>0.111111</td>\n",
       "      <td>27.0</td>\n",
       "      <td>0-10</td>\n",
       "      <td>0-7</td>\n",
       "      <td>11-15%</td>\n",
       "      <td>25-27</td>\n",
       "      <td>0-7</td>\n",
       "    </tr>\n",
       "    <tr>\n",
       "      <th>3</th>\n",
       "      <td>2</td>\n",
       "      <td>45918</td>\n",
       "      <td>True</td>\n",
       "      <td>202279</td>\n",
       "      <td>9</td>\n",
       "      <td>5</td>\n",
       "      <td>4.0</td>\n",
       "      <td>0.147659</td>\n",
       "      <td>27.0</td>\n",
       "      <td>0-10</td>\n",
       "      <td>0-7</td>\n",
       "      <td>11-15%</td>\n",
       "      <td>25-27</td>\n",
       "      <td>0-7</td>\n",
       "    </tr>\n",
       "    <tr>\n",
       "      <th>4</th>\n",
       "      <td>2</td>\n",
       "      <td>30035</td>\n",
       "      <td>False</td>\n",
       "      <td>202279</td>\n",
       "      <td>9</td>\n",
       "      <td>3</td>\n",
       "      <td>2.0</td>\n",
       "      <td>0.333333</td>\n",
       "      <td>27.0</td>\n",
       "      <td>0-10</td>\n",
       "      <td>0-7</td>\n",
       "      <td>31-35%</td>\n",
       "      <td>25-27</td>\n",
       "      <td>0-7</td>\n",
       "    </tr>\n",
       "  </tbody>\n",
       "</table>\n",
       "</div>"
      ],
      "text/plain": [
       "   OrderID  ProductID  reordered  UserID  UserTotalOrder  \\\n",
       "0        2      33120       True  202279               9   \n",
       "1        2      28985       True  202279               9   \n",
       "2        2       9327      False  202279               9   \n",
       "3        2      45918       True  202279               9   \n",
       "4        2      30035      False  202279               9   \n",
       "\n",
       "   UserTotalProductOrder  UserProductTotalReordered  UserProductOrdersShare  \\\n",
       "0                      6                        5.0                0.147659   \n",
       "1                      5                        4.0                0.147659   \n",
       "2                      1                        0.0                0.111111   \n",
       "3                      5                        4.0                0.147659   \n",
       "4                      3                        2.0                0.333333   \n",
       "\n",
       "   UserMedianDaysSincePriorOrder UserTotalOrder_bin UserTotalProductOrder_bin  \\\n",
       "0                           27.0               0-10                       0-7   \n",
       "1                           27.0               0-10                       0-7   \n",
       "2                           27.0               0-10                       0-7   \n",
       "3                           27.0               0-10                       0-7   \n",
       "4                           27.0               0-10                       0-7   \n",
       "\n",
       "  UserProductOrdersShare_bin UserMedianDaysSincePriorOrder_bin  \\\n",
       "0                     11-15%                             25-27   \n",
       "1                     11-15%                             25-27   \n",
       "2                     11-15%                             25-27   \n",
       "3                     11-15%                             25-27   \n",
       "4                     31-35%                             25-27   \n",
       "\n",
       "  UserProductTotalReordered_bin  \n",
       "0                           0-7  \n",
       "1                           0-7  \n",
       "2                           0-7  \n",
       "3                           0-7  \n",
       "4                           0-7  "
      ]
     },
     "execution_count": 18,
     "metadata": {},
     "output_type": "execute_result"
    }
   ],
   "source": [
    "UserProductTotalReorderedBinLabels = [\"0-7\", \"8-14\",\"15-21\",\"22-28\", \"29-35\", \"36-42\", \"43-49\", \"50-56\", \"57-63\", \"64-70\"]\n",
    "UserProductTotalReorderedBins = [0,7,14,21,28,35,42,49,56,63,70]\n",
    "makeBins(dataDump,UserProductTotalReorderedBins,UserProductTotalReorderedBinLabels, \"UserProductTotalReordered\")\n",
    "dataDump.head()"
   ]
  },
  {
   "cell_type": "markdown",
   "metadata": {},
   "source": [
    "## Import Library "
   ]
  },
  {
   "cell_type": "code",
   "execution_count": 19,
   "metadata": {},
   "outputs": [],
   "source": [
    "from pandas.api.types import CategoricalDtype"
   ]
  },
  {
   "cell_type": "code",
   "execution_count": 20,
   "metadata": {},
   "outputs": [],
   "source": [
    "def factorData(data,columns):\n",
    "    for column in columns: \n",
    "        data[column] = data[column].astype('category')\n",
    "        data[column + '_factors'] = data[column].cat.codes"
   ]
  },
  {
   "cell_type": "code",
   "execution_count": 21,
   "metadata": {},
   "outputs": [],
   "source": [
    "columns = ['UserTotalOrder_bin', 'UserTotalProductOrder_bin', 'UserProductOrdersShare_bin'\n",
    "           , 'UserMedianDaysSincePriorOrder_bin', 'UserProductTotalReordered_bin']"
   ]
  },
  {
   "cell_type": "code",
   "execution_count": 22,
   "metadata": {},
   "outputs": [],
   "source": [
    "factorData(dataDump, columns)"
   ]
  },
  {
   "cell_type": "code",
   "execution_count": 23,
   "metadata": {},
   "outputs": [],
   "source": [
    "#testing/training with only 5000 records due to scalability issues... \n",
    "tempData = dataDump.head(5000).copy()"
   ]
  },
  {
   "cell_type": "markdown",
   "metadata": {},
   "source": [
    "# Train/Test Split"
   ]
  },
  {
   "cell_type": "code",
   "execution_count": null,
   "metadata": {},
   "outputs": [],
   "source": [
    "#only takes first 5000 rows\n"
   ]
  },
  {
   "cell_type": "code",
   "execution_count": 24,
   "metadata": {},
   "outputs": [],
   "source": [
    "trainData = tempData[['UserProductTotalReordered_bin_factors', 'UserMedianDaysSincePriorOrder_bin_factors'\n",
    "                    , 'UserProductOrdersShare_bin_factors', 'UserTotalProductOrder_bin_factors'\n",
    "                     , 'UserTotalOrder_bin_factors', 'reordered']]"
   ]
  },
  {
   "cell_type": "code",
   "execution_count": 25,
   "metadata": {},
   "outputs": [],
   "source": [
    "X_train, X_test, y_train, y_test = train_test_split(trainData.drop(['reordered'], axis=1)\n",
    "                                                   , trainData['reordered'], test_size=0.9, random_state=42)"
   ]
  },
  {
   "cell_type": "markdown",
   "metadata": {},
   "source": [
    "# Random Forest Model\n",
    "## Parameter Testing "
   ]
  },
  {
   "cell_type": "code",
   "execution_count": 33,
   "metadata": {},
   "outputs": [],
   "source": [
    "#determining how many trees to use for predictions (n_estimators) based on OOB score \n",
    "n_range = [30,50,100,200,500,1000]\n",
    "error_rates = []\n",
    "\n",
    "for n in n_range:\n",
    "    rf = RandomForestClassifier(n_estimators=n, n_jobs=-1, random_state=42, oob_score=True)\n",
    "    rf.fit(X_train, y_train)\n",
    "    oob_error = 1-rf.oob_score_\n",
    "    error_rates.append(oob_error)\n",
    "    #print(\"Done\")"
   ]
  },
  {
   "cell_type": "code",
   "execution_count": 34,
   "metadata": {},
   "outputs": [
    {
     "data": {
      "text/plain": [
       "[0.14600000000000002,\n",
       " 0.14800000000000002,\n",
       " 0.14,\n",
       " 0.14400000000000002,\n",
       " 0.14400000000000002,\n",
       " 0.14600000000000002]"
      ]
     },
     "execution_count": 34,
     "metadata": {},
     "output_type": "execute_result"
    }
   ],
   "source": [
    "error_rates"
   ]
  },
  {
   "cell_type": "code",
   "execution_count": 35,
   "metadata": {},
   "outputs": [],
   "source": [
    "#fine tuning n_estimators\n",
    "n_range = range(50,100)\n",
    "error_rates = []\n",
    "for n in n_range:\n",
    "    rf = RandomForestClassifier(n_estimators=n, n_jobs=-1, random_state=42, oob_score=True)\n",
    "    rf.fit(X_train, y_train)\n",
    "    oob_error = 1-rf.oob_score_\n",
    "    error_rates.append(oob_error)\n",
    "    #print(\"Done\")"
   ]
  },
  {
   "cell_type": "code",
   "execution_count": 37,
   "metadata": {},
   "outputs": [],
   "source": [
    "#error_rates"
   ]
  },
  {
   "cell_type": "code",
   "execution_count": 44,
   "metadata": {},
   "outputs": [],
   "source": [
    "#n_estimators = 56\n",
    "#max features\n",
    "n_features = ['auto', 'sqrt', 'log2', 0.9, 0.2]\n",
    "scores = []\n",
    "\n",
    "for n in n_features:\n",
    "    rf = RandomForestClassifier(n_estimators=56, random_state=42, max_features = n, oob_score=False)\n",
    "    rf.fit(X_train, y_train)\n",
    "    y_hat = rf.predict(X_test)\n",
    "    scores.append(metrics.accuracy_score(y_test, y_hat))"
   ]
  },
  {
   "cell_type": "code",
   "execution_count": 45,
   "metadata": {},
   "outputs": [
    {
     "data": {
      "text/plain": [
       "[0.8204444444444444,\n",
       " 0.8204444444444444,\n",
       " 0.8204444444444444,\n",
       " 0.8224444444444444,\n",
       " 0.8213333333333334]"
      ]
     },
     "execution_count": 45,
     "metadata": {},
     "output_type": "execute_result"
    }
   ],
   "source": [
    "scores"
   ]
  },
  {
   "cell_type": "code",
   "execution_count": 50,
   "metadata": {},
   "outputs": [],
   "source": [
    "#n_range = range(1, 50)\n",
    "n_range = range(1,20)\n",
    "scores = []\n",
    "\n",
    "for n in n_range:\n",
    "    rf = RandomForestClassifier(n_estimators=56, random_state=42, max_features = 'auto', min_samples_leaf=n, oob_score=False)\n",
    "    rf.fit(X_train, y_train)\n",
    "    y_hat = rf.predict(X_test)\n",
    "    scores.append(metrics.accuracy_score(y_test, y_hat))"
   ]
  },
  {
   "cell_type": "code",
   "execution_count": 51,
   "metadata": {},
   "outputs": [
    {
     "data": {
      "text/plain": [
       "[0.8204444444444444,\n",
       " 0.8213333333333334,\n",
       " 0.8248888888888889,\n",
       " 0.824,\n",
       " 0.8268888888888889,\n",
       " 0.8233333333333334,\n",
       " 0.8222222222222222,\n",
       " 0.818,\n",
       " 0.8204444444444444,\n",
       " 0.8237777777777778,\n",
       " 0.8231111111111111,\n",
       " 0.8231111111111111,\n",
       " 0.8231111111111111,\n",
       " 0.8155555555555556,\n",
       " 0.8115555555555556,\n",
       " 0.8073333333333333,\n",
       " 0.8071111111111111,\n",
       " 0.8048888888888889,\n",
       " 0.8062222222222222]"
      ]
     },
     "execution_count": 51,
     "metadata": {},
     "output_type": "execute_result"
    }
   ],
   "source": [
    "scores"
   ]
  },
  {
   "cell_type": "markdown",
   "metadata": {},
   "source": [
    "## Test performance of Finalized Random Forest Model"
   ]
  },
  {
   "cell_type": "code",
   "execution_count": 64,
   "metadata": {},
   "outputs": [
    {
     "data": {
      "text/plain": [
       "RandomForestClassifier(bootstrap=True, class_weight=None, criterion='gini',\n",
       "            max_depth=None, max_features='auto', max_leaf_nodes=None,\n",
       "            min_impurity_decrease=0.0, min_impurity_split=None,\n",
       "            min_samples_leaf=5, min_samples_split=2,\n",
       "            min_weight_fraction_leaf=0.0, n_estimators=56, n_jobs=-1,\n",
       "            oob_score=False, random_state=42, verbose=0, warm_start=False)"
      ]
     },
     "execution_count": 64,
     "metadata": {},
     "output_type": "execute_result"
    }
   ],
   "source": [
    "rf = RandomForestClassifier(n_estimators=56, random_state=42, max_features = 'auto', min_samples_leaf=5, n_jobs=-1)\n",
    "rf.fit(X_train, y_train)"
   ]
  },
  {
   "cell_type": "code",
   "execution_count": 65,
   "metadata": {},
   "outputs": [
    {
     "data": {
      "text/plain": [
       "0.8268888888888889"
      ]
     },
     "execution_count": 65,
     "metadata": {},
     "output_type": "execute_result"
    }
   ],
   "source": [
    "rf.score(X_test, y_test) #this is the accuracy score of our random forest model with the arguments above 82.68% "
   ]
  },
  {
   "cell_type": "markdown",
   "metadata": {},
   "source": [
    "# Logistic Regression\n",
    "## Parameter Testing"
   ]
  },
  {
   "cell_type": "code",
   "execution_count": 71,
   "metadata": {},
   "outputs": [],
   "source": [
    "#penalty\n",
    "penalties = ['l1', 'l2']\n",
    "scores = []\n",
    "\n",
    "for p in penalties:\n",
    "    lr = LogisticRegression(penalty=p, random_state=42)\n",
    "    lr.fit(X_train, y_train)\n",
    "    y_hat = lr.predict(X_test)\n",
    "    scores.append(metrics.accuracy_score(y_test, y_hat))"
   ]
  },
  {
   "cell_type": "code",
   "execution_count": 72,
   "metadata": {},
   "outputs": [
    {
     "data": {
      "text/plain": [
       "[0.7826666666666666, 0.7806666666666666]"
      ]
     },
     "execution_count": 72,
     "metadata": {},
     "output_type": "execute_result"
    }
   ],
   "source": [
    "scores"
   ]
  },
  {
   "cell_type": "code",
   "execution_count": 78,
   "metadata": {},
   "outputs": [],
   "source": [
    "#C value\n",
    "c_range = range(10,20)\n",
    "scores = []\n",
    "\n",
    "for c in c_range:\n",
    "    lr = LogisticRegression(penalty='l1', C=c, random_state=42)\n",
    "    lr.fit(X_train, y_train)\n",
    "    y_hat = lr.predict(X_test)\n",
    "    scores.append(metrics.accuracy_score(y_test, y_hat))    "
   ]
  },
  {
   "cell_type": "code",
   "execution_count": 79,
   "metadata": {},
   "outputs": [
    {
     "data": {
      "text/plain": [
       "[0.784,\n",
       " 0.784,\n",
       " 0.784,\n",
       " 0.784,\n",
       " 0.784,\n",
       " 0.7833333333333333,\n",
       " 0.7837777777777778,\n",
       " 0.7837777777777778,\n",
       " 0.7837777777777778,\n",
       " 0.7837777777777778]"
      ]
     },
     "execution_count": 79,
     "metadata": {},
     "output_type": "execute_result"
    }
   ],
   "source": [
    "scores"
   ]
  },
  {
   "cell_type": "code",
   "execution_count": 82,
   "metadata": {},
   "outputs": [
    {
     "name": "stderr",
     "output_type": "stream",
     "text": [
      "C:\\Users\\cnguyen\\Anaconda3\\lib\\site-packages\\sklearn\\linear_model\\sag.py:326: ConvergenceWarning: The max_iter was reached which means the coef_ did not converge\n",
      "  \"the coef_ did not converge\", ConvergenceWarning)\n"
     ]
    }
   ],
   "source": [
    "#solver algorithm\n",
    "solver = ['liblinear', 'saga']\n",
    "scores = []\n",
    "for c in solver:\n",
    "    lr = LogisticRegression(penalty='l1', C=10, random_state=42, solver = c)\n",
    "    lr.fit(X_train, y_train)\n",
    "    y_hat = lr.predict(X_test)\n",
    "    scores.append(metrics.accuracy_score(y_test, y_hat))    "
   ]
  },
  {
   "cell_type": "code",
   "execution_count": 84,
   "metadata": {},
   "outputs": [
    {
     "data": {
      "text/plain": [
       "[0.784, 0.794]"
      ]
     },
     "execution_count": 84,
     "metadata": {},
     "output_type": "execute_result"
    }
   ],
   "source": [
    "scores"
   ]
  },
  {
   "cell_type": "markdown",
   "metadata": {},
   "source": [
    "## Test performance of Finalized Logistic Regression Model"
   ]
  },
  {
   "cell_type": "code",
   "execution_count": 85,
   "metadata": {},
   "outputs": [],
   "source": [
    "lr = LogisticRegression(penalty='l1', C=10, random_state=42, solver = 'saga', n_jobs=-1)"
   ]
  },
  {
   "cell_type": "code",
   "execution_count": 86,
   "metadata": {},
   "outputs": [
    {
     "name": "stderr",
     "output_type": "stream",
     "text": [
      "C:\\Users\\cnguyen\\Anaconda3\\lib\\site-packages\\sklearn\\linear_model\\sag.py:326: ConvergenceWarning: The max_iter was reached which means the coef_ did not converge\n",
      "  \"the coef_ did not converge\", ConvergenceWarning)\n"
     ]
    },
    {
     "data": {
      "text/plain": [
       "LogisticRegression(C=10, class_weight=None, dual=False, fit_intercept=True,\n",
       "          intercept_scaling=1, max_iter=100, multi_class='ovr', n_jobs=-1,\n",
       "          penalty='l1', random_state=42, solver='saga', tol=0.0001,\n",
       "          verbose=0, warm_start=False)"
      ]
     },
     "execution_count": 86,
     "metadata": {},
     "output_type": "execute_result"
    }
   ],
   "source": [
    "lr.fit(X_train, y_train)"
   ]
  },
  {
   "cell_type": "code",
   "execution_count": 87,
   "metadata": {},
   "outputs": [
    {
     "data": {
      "text/plain": [
       "0.794"
      ]
     },
     "execution_count": 87,
     "metadata": {},
     "output_type": "execute_result"
    }
   ],
   "source": [
    "lr.score(X_test, y_test)"
   ]
  },
  {
   "cell_type": "markdown",
   "metadata": {},
   "source": [
    "# GaussianNB"
   ]
  },
  {
   "cell_type": "code",
   "execution_count": 89,
   "metadata": {},
   "outputs": [],
   "source": [
    "gnb=GaussianNB()"
   ]
  },
  {
   "cell_type": "code",
   "execution_count": 90,
   "metadata": {},
   "outputs": [
    {
     "data": {
      "text/plain": [
       "GaussianNB(priors=None)"
      ]
     },
     "execution_count": 90,
     "metadata": {},
     "output_type": "execute_result"
    }
   ],
   "source": [
    "gnb.fit(X_train, y_train)"
   ]
  },
  {
   "cell_type": "code",
   "execution_count": 92,
   "metadata": {},
   "outputs": [
    {
     "data": {
      "text/plain": [
       "0.7335555555555555"
      ]
     },
     "execution_count": 92,
     "metadata": {},
     "output_type": "execute_result"
    }
   ],
   "source": [
    "gnb.score(X_test, y_test)"
   ]
  },
  {
   "cell_type": "markdown",
   "metadata": {},
   "source": [
    "# Predict Probability of Reordering"
   ]
  },
  {
   "cell_type": "code",
   "execution_count": 26,
   "metadata": {},
   "outputs": [
    {
     "data": {
      "text/plain": [
       "RandomForestClassifier(bootstrap=True, class_weight=None, criterion='gini',\n",
       "            max_depth=None, max_features='auto', max_leaf_nodes=None,\n",
       "            min_impurity_decrease=0.0, min_impurity_split=None,\n",
       "            min_samples_leaf=5, min_samples_split=2,\n",
       "            min_weight_fraction_leaf=0.0, n_estimators=56, n_jobs=-1,\n",
       "            oob_score=False, random_state=42, verbose=0, warm_start=False)"
      ]
     },
     "execution_count": 26,
     "metadata": {},
     "output_type": "execute_result"
    }
   ],
   "source": [
    "rf = RandomForestClassifier(n_estimators=56, random_state=42, max_features = 'auto', min_samples_leaf=5, n_jobs=-1)\n",
    "rf.fit(X_train, y_train)"
   ]
  },
  {
   "cell_type": "code",
   "execution_count": 33,
   "metadata": {},
   "outputs": [
    {
     "data": {
      "text/plain": [
       "array([False,  True])"
      ]
     },
     "execution_count": 33,
     "metadata": {},
     "output_type": "execute_result"
    }
   ],
   "source": [
    "rf.classes_"
   ]
  },
  {
   "cell_type": "code",
   "execution_count": 41,
   "metadata": {},
   "outputs": [
    {
     "data": {
      "text/plain": [
       "array([[0.49309284, 0.50690716],\n",
       "       [0.93023444, 0.06976556],\n",
       "       [0.99165482, 0.00834518],\n",
       "       ...,\n",
       "       [0.87197659, 0.12802341],\n",
       "       [0.98687147, 0.01312853],\n",
       "       [0.37800577, 0.62199423]])"
      ]
     },
     "execution_count": 41,
     "metadata": {},
     "output_type": "execute_result"
    }
   ],
   "source": [
    "rf.predict_proba(X_test)"
   ]
  },
  {
   "cell_type": "markdown",
   "metadata": {},
   "source": [
    "## Feature Importance"
   ]
  },
  {
   "cell_type": "code",
   "execution_count": 27,
   "metadata": {},
   "outputs": [
    {
     "data": {
      "text/html": [
       "<div>\n",
       "<style scoped>\n",
       "    .dataframe tbody tr th:only-of-type {\n",
       "        vertical-align: middle;\n",
       "    }\n",
       "\n",
       "    .dataframe tbody tr th {\n",
       "        vertical-align: top;\n",
       "    }\n",
       "\n",
       "    .dataframe thead th {\n",
       "        text-align: right;\n",
       "    }\n",
       "</style>\n",
       "<table border=\"1\" class=\"dataframe\">\n",
       "  <thead>\n",
       "    <tr style=\"text-align: right;\">\n",
       "      <th></th>\n",
       "      <th>Importance</th>\n",
       "    </tr>\n",
       "  </thead>\n",
       "  <tbody>\n",
       "    <tr>\n",
       "      <th>UserProductOrdersShare_bin_factors</th>\n",
       "      <td>0.559655</td>\n",
       "    </tr>\n",
       "    <tr>\n",
       "      <th>UserTotalOrder_bin_factors</th>\n",
       "      <td>0.186999</td>\n",
       "    </tr>\n",
       "    <tr>\n",
       "      <th>UserTotalProductOrder_bin_factors</th>\n",
       "      <td>0.089222</td>\n",
       "    </tr>\n",
       "    <tr>\n",
       "      <th>UserMedianDaysSincePriorOrder_bin_factors</th>\n",
       "      <td>0.088026</td>\n",
       "    </tr>\n",
       "    <tr>\n",
       "      <th>UserProductTotalReordered_bin_factors</th>\n",
       "      <td>0.076099</td>\n",
       "    </tr>\n",
       "  </tbody>\n",
       "</table>\n",
       "</div>"
      ],
      "text/plain": [
       "                                           Importance\n",
       "UserProductOrdersShare_bin_factors           0.559655\n",
       "UserTotalOrder_bin_factors                   0.186999\n",
       "UserTotalProductOrder_bin_factors            0.089222\n",
       "UserMedianDaysSincePriorOrder_bin_factors    0.088026\n",
       "UserProductTotalReordered_bin_factors        0.076099"
      ]
     },
     "execution_count": 27,
     "metadata": {},
     "output_type": "execute_result"
    }
   ],
   "source": [
    "feature_importances = pd.DataFrame(rf.feature_importances_, index = X_train.columns,\n",
    "                                   columns=['Importance']).sort_values('Importance', ascending = False)\n",
    "feature_importances"
   ]
  },
  {
   "cell_type": "code",
   "execution_count": null,
   "metadata": {},
   "outputs": [],
   "source": []
  }
 ],
 "metadata": {
  "kernelspec": {
   "display_name": "Python 3",
   "language": "python",
   "name": "python3"
  },
  "language_info": {
   "codemirror_mode": {
    "name": "ipython",
    "version": 3
   },
   "file_extension": ".py",
   "mimetype": "text/x-python",
   "name": "python",
   "nbconvert_exporter": "python",
   "pygments_lexer": "ipython3",
   "version": "3.7.0"
  }
 },
 "nbformat": 4,
 "nbformat_minor": 2
}
